{
 "cells": [
  {
   "cell_type": "code",
   "execution_count": 1,
   "id": "02a1ad73",
   "metadata": {},
   "outputs": [
    {
     "name": "stdout",
     "output_type": "stream",
     "text": [
      "('Darius', '13', '100m', 'Fly', ['1:27.95', '1:21.07', '1:30.96', '1:23.22', '1:27.95', '1:28.30'], '1:26.58', [8795, 8107, 9096, 8322, 8795, 8830])\n"
     ]
    }
   ],
   "source": [
    "import swimclub\n",
    "fn=\"Darius-13-100m-Fly.txt\"\n",
    "print(swimclub.read_swim_data(fn))\n",
    "(swimmer, age, distance, stroke, *_)=swimclub.read_swim_data(fn)\n",
    "#title=swimmer+\"(Under \"+age+\")\"+distance+\" \"+stroke\n",
    "title=f\"{swimmer} (Under {age}) {distance} {stroke}\"\n"
   ]
  },
  {
   "cell_type": "code",
   "execution_count": 2,
   "id": "b129288c",
   "metadata": {},
   "outputs": [
    {
     "data": {
      "text/plain": [
       "'Darius (Under 13) 100m Fly'"
      ]
     },
     "execution_count": 2,
     "metadata": {},
     "output_type": "execute_result"
    }
   ],
   "source": [
    "title"
   ]
  },
  {
   "cell_type": "code",
   "execution_count": 3,
   "id": "f80662d5",
   "metadata": {},
   "outputs": [],
   "source": [
    "#html=\"<!DOCTYPE html><html><head><title>\"+title\n",
    "#html=html+\"</title></head><body><h3>\"+title+\"</h3>\"\n",
    "html=f\"\"\"<!DOCTYPE html>\n",
    "<html>\n",
    "<head>\n",
    "<title>{title}</title>\n",
    "</head>\n",
    "<body>\n",
    "<h3>{title}</h3>\n",
    "\"\"\"\n"
   ]
  },
  {
   "cell_type": "code",
   "execution_count": 4,
   "id": "cf0cc739",
   "metadata": {},
   "outputs": [
    {
     "name": "stdout",
     "output_type": "stream",
     "text": [
      "<!DOCTYPE html>\n",
      "<html>\n",
      "<head>\n",
      "<title>Darius (Under 13) 100m Fly</title>\n",
      "</head>\n",
      "<body>\n",
      "<h3>Darius (Under 13) 100m Fly</h3>\n",
      "\n"
     ]
    }
   ],
   "source": [
    "print(html)"
   ]
  },
  {
   "cell_type": "code",
   "execution_count": 5,
   "id": "fbd142de",
   "metadata": {},
   "outputs": [],
   "source": [
    "import hfpy_utils\n",
    "\n",
    "\n",
    "*_, times, average, converts = swimclub.read_swim_data(fn)\n",
    "from_max = max(converts)\n",
    "svgs = \"\"\n",
    "for n, t in enumerate(times):\n",
    "    bar_width = hfpy_utils.convert2range(converts[n], 0, from_max, 0, 400)\n",
    "    svgs = svgs + f\"\"\"\n",
    "                        <svg height=\"30\" width=\"400\">\n",
    "                            <rect height=\"30\" width=\"{bar_width}\" style=\"fill:rgb(0,0,255);\" />\n",
    "                        </svg>{t}<br />\n",
    "                   \"\"\""
   ]
  },
  {
   "cell_type": "code",
   "execution_count": 6,
   "id": "11abb131",
   "metadata": {},
   "outputs": [
    {
     "name": "stdout",
     "output_type": "stream",
     "text": [
      "\n",
      "                        <svg height=\"30\" width=\"400\">\n",
      "                            <rect height=\"30\" width=\"386.76\" style=\"fill:rgb(0,0,255);\" />\n",
      "                        </svg>1:27.95<br />\n",
      "                   \n",
      "                        <svg height=\"30\" width=\"400\">\n",
      "                            <rect height=\"30\" width=\"356.51\" style=\"fill:rgb(0,0,255);\" />\n",
      "                        </svg>1:21.07<br />\n",
      "                   \n",
      "                        <svg height=\"30\" width=\"400\">\n",
      "                            <rect height=\"30\" width=\"400.0\" style=\"fill:rgb(0,0,255);\" />\n",
      "                        </svg>1:30.96<br />\n",
      "                   \n",
      "                        <svg height=\"30\" width=\"400\">\n",
      "                            <rect height=\"30\" width=\"365.96\" style=\"fill:rgb(0,0,255);\" />\n",
      "                        </svg>1:23.22<br />\n",
      "                   \n",
      "                        <svg height=\"30\" width=\"400\">\n",
      "                            <rect height=\"30\" width=\"386.76\" style=\"fill:rgb(0,0,255);\" />\n",
      "                        </svg>1:27.95<br />\n",
      "                   \n",
      "                        <svg height=\"30\" width=\"400\">\n",
      "                            <rect height=\"30\" width=\"388.3\" style=\"fill:rgb(0,0,255);\" />\n",
      "                        </svg>1:28.30<br />\n",
      "                   \n"
     ]
    }
   ],
   "source": [
    "print(svgs)"
   ]
  },
  {
   "cell_type": "code",
   "execution_count": 7,
   "id": "471ccc09",
   "metadata": {},
   "outputs": [],
   "source": [
    "footer = f\"\"\"\n",
    "        <p>Average time: {average}</p>\n",
    "    </body>\n",
    "</html>\n",
    "\"\"\""
   ]
  },
  {
   "cell_type": "code",
   "execution_count": 8,
   "id": "5685a06b",
   "metadata": {},
   "outputs": [],
   "source": [
    "page = html + svgs + footer"
   ]
  },
  {
   "cell_type": "code",
   "execution_count": 9,
   "id": "4c048b3b",
   "metadata": {},
   "outputs": [],
   "source": [
    "with open(\"test.txt\", \"w\") as tf:\n",
    "    print(\"This is a test.\", file=tf)"
   ]
  },
  {
   "cell_type": "code",
   "execution_count": 10,
   "id": "d5552492",
   "metadata": {},
   "outputs": [
    {
     "name": "stdout",
     "output_type": "stream",
     "text": [
      "Darius-13-100m-Fly.txt\n",
      "Darius-13-100m-Fly\n",
      "charts/Darius-13-100m-Fly.html\n"
     ]
    }
   ],
   "source": [
    "print(fn)\n",
    "prefix = fn.removesuffix(\".txt\")\n",
    "print(prefix)\n",
    "print(f\"charts/{prefix}.html\")"
   ]
  },
  {
   "cell_type": "code",
   "execution_count": 11,
   "id": "d3bc5e54",
   "metadata": {},
   "outputs": [],
   "source": [
    "import os\n",
    "os.makedirs(\"charts\", exist_ok=True)"
   ]
  },
  {
   "cell_type": "code",
   "execution_count": 12,
   "id": "f5b6c1f8",
   "metadata": {},
   "outputs": [],
   "source": [
    "import os\n",
    "os.makedirs(\"charts\", exist_ok=True)\n",
    "save_to = f\"charts/{fn.removesuffix('.txt')}.html\"\n",
    "\n",
    "with open(save_to, \"w\") as sf:\n",
    "    print(page, file=sf)"
   ]
  },
  {
   "cell_type": "code",
   "execution_count": 13,
   "id": "db5c84a7",
   "metadata": {},
   "outputs": [],
   "source": [
    "import os\n",
    "import swimclub\n",
    "import webbrowser"
   ]
  },
  {
   "cell_type": "code",
   "execution_count": 14,
   "id": "80ba231a",
   "metadata": {},
   "outputs": [
    {
     "data": {
      "text/plain": [
       "'charts/Darius-13-100m-Fly.html'"
      ]
     },
     "execution_count": 14,
     "metadata": {},
     "output_type": "execute_result"
    }
   ],
   "source": [
    "swimclub.produce_bar_chart(\"Darius-13-100m-Fly.txt\")"
   ]
  },
  {
   "cell_type": "code",
   "execution_count": 15,
   "id": "82504dd5",
   "metadata": {},
   "outputs": [
    {
     "data": {
      "text/plain": [
       "True"
      ]
     },
     "execution_count": 15,
     "metadata": {},
     "output_type": "execute_result"
    }
   ],
   "source": [
    "chart = swimclub.produce_bar_chart(\"Darius-13-100m-Fly.txt\")\n",
    "\n",
    "webbrowser.open(\"file://\" + os.path.realpath(chart))"
   ]
  },
  {
   "cell_type": "code",
   "execution_count": 16,
   "id": "5f0d8324",
   "metadata": {},
   "outputs": [
    {
     "data": {
      "text/plain": [
       "True"
      ]
     },
     "execution_count": 16,
     "metadata": {},
     "output_type": "execute_result"
    }
   ],
   "source": [
    "chart = swimclub.produce_bar_chart(\"Dave-17-100m-Free.txt\")\n",
    "\n",
    "webbrowser.open(\"file://\" + os.path.realpath(chart))"
   ]
  },
  {
   "cell_type": "code",
   "execution_count": 17,
   "id": "c232d237",
   "metadata": {},
   "outputs": [
    {
     "data": {
      "text/plain": [
       "'charts/Lizzie-14-100m-Back.html'"
      ]
     },
     "execution_count": 17,
     "metadata": {},
     "output_type": "execute_result"
    }
   ],
   "source": [
    "swimclub.produce_bar_chart(\"Lizzie-14-100m-Back.txt\")"
   ]
  },
  {
   "cell_type": "code",
   "execution_count": 18,
   "id": "832a5b7e",
   "metadata": {},
   "outputs": [
    {
     "data": {
      "text/plain": [
       "True"
      ]
     },
     "execution_count": 18,
     "metadata": {},
     "output_type": "execute_result"
    }
   ],
   "source": [
    "chart = swimclub.produce_bar_chart(\"Lizzie-14-100m-Back.txt\")\n",
    "\n",
    "webbrowser.open(\"file://\" + os.path.realpath(chart))"
   ]
  },
  {
   "cell_type": "code",
   "execution_count": 19,
   "id": "32734411",
   "metadata": {},
   "outputs": [
    {
     "data": {
      "text/plain": [
       "('Lizzie',\n",
       " '14',\n",
       " '100m',\n",
       " 'Back',\n",
       " ['1:27.10', '1:26.21', '1:26.42', '1:35.79', '1:30.47'],\n",
       " '1:29.20',\n",
       " [8710, 8621, 8642, 9579, 9047])"
      ]
     },
     "execution_count": 19,
     "metadata": {},
     "output_type": "execute_result"
    }
   ],
   "source": [
    "swimclub.read_swim_data(\"Lizzie-14-100m-Back.txt\")"
   ]
  },
  {
   "cell_type": "code",
   "execution_count": null,
   "id": "bb815fbe",
   "metadata": {},
   "outputs": [],
   "source": []
  },
  {
   "cell_type": "code",
   "execution_count": null,
   "id": "88f81701",
   "metadata": {},
   "outputs": [],
   "source": []
  }
 ],
 "metadata": {
  "kernelspec": {
   "display_name": "Python 3",
   "language": "python",
   "name": "python3"
  },
  "language_info": {
   "codemirror_mode": {
    "name": "ipython",
    "version": 3
   },
   "file_extension": ".py",
   "mimetype": "text/x-python",
   "name": "python",
   "nbconvert_exporter": "python",
   "pygments_lexer": "ipython3",
   "version": "3.11.9"
  }
 },
 "nbformat": 4,
 "nbformat_minor": 5
}
