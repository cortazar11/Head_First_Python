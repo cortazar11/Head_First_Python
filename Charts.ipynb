{
 "cells": [
  {
   "cell_type": "code",
   "execution_count": null,
   "id": "02a1ad73",
   "metadata": {},
   "outputs": [],
   "source": [
    "import swimclub\n",
    "fn=\"Darius-13-100m-Fly.txt\"\n",
    "print(swimclub.read_swim_data(fn))\n",
    "(swimmer, age, distance, stroke, *_)=swimclub.read_swim_data(fn)\n",
    "#title=swimmer+\"(Under \"+age+\")\"+distance+\" \"+stroke\n",
    "title=f\"{swimmer} (Under {age}) {distance} {stroke}\"\n"
   ]
  },
  {
   "cell_type": "code",
   "execution_count": 2,
   "id": "b129288c",
   "metadata": {},
   "outputs": [
    {
     "data": {
      "text/plain": [
       "'Darius (Under 13) 100m Fly'"
      ]
     },
     "execution_count": 2,
     "metadata": {},
     "output_type": "execute_result"
    }
   ],
   "source": [
    "title"
   ]
  },
  {
   "cell_type": "code",
   "execution_count": 3,
   "id": "f80662d5",
   "metadata": {},
   "outputs": [],
   "source": [
    "#html=\"<!DOCTYPE html><html><head><title>\"+title\n",
    "#html=html+\"</title></head><body><h3>\"+title+\"</h3>\"\n",
    "html=f\"\"\"<!DOCTYPE html>\n",
    "<html>\n",
    "<head>\n",
    "<title>{title}</title>\n",
    "</head>\n",
    "<body>\n",
    "<h3>{title}</h3>\n",
    "\"\"\"\n"
   ]
  },
  {
   "cell_type": "code",
   "execution_count": 4,
   "id": "cf0cc739",
   "metadata": {},
   "outputs": [
    {
     "name": "stdout",
     "output_type": "stream",
     "text": [
      "<!DOCTYPE html>\n",
      "<html>\n",
      "<head>\n",
      "<title>Darius (Under 13) 100m Fly</title>\n",
      "</head>\n",
      "<body>\n",
      "<h3>Darius (Under 13) 100m Fly</h3>\n",
      "\n"
     ]
    }
   ],
   "source": [
    "print(html)"
   ]
  },
  {
   "cell_type": "code",
   "execution_count": null,
   "id": "fbd142de",
   "metadata": {},
   "outputs": [],
   "source": []
  }
 ],
 "metadata": {
  "kernelspec": {
   "display_name": "Python 3",
   "language": "python",
   "name": "python3"
  },
  "language_info": {
   "codemirror_mode": {
    "name": "ipython",
    "version": 3
   },
   "file_extension": ".py",
   "mimetype": "text/x-python",
   "name": "python",
   "nbconvert_exporter": "python",
   "pygments_lexer": "ipython3",
   "version": "3.13.2"
  }
 },
 "nbformat": 4,
 "nbformat_minor": 5
}
