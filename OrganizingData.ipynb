{
 "cells": [
  {
   "cell_type": "code",
   "execution_count": 1,
   "id": "0f548099",
   "metadata": {},
   "outputs": [
    {
     "name": "stdout",
     "output_type": "stream",
     "text": [
      "60\n"
     ]
    }
   ],
   "source": [
    "import os\n",
    "import swimclub\n",
    "\n",
    "swim_files=os.listdir(swimclub.FOLDER)\n",
    "swim_files.remove(\".DS_Store\")\n",
    "\n",
    "print(len(swim_files))"
   ]
  },
  {
   "cell_type": "code",
   "execution_count": 2,
   "id": "d7869c4e",
   "metadata": {},
   "outputs": [],
   "source": [
    "swimmers=[]"
   ]
  },
  {
   "cell_type": "code",
   "execution_count": 3,
   "id": "f2a920b9",
   "metadata": {},
   "outputs": [
    {
     "name": "stdout",
     "output_type": "stream",
     "text": [
      "['Ruth', 'Darius', 'Erika', 'Ruth', 'Ali', 'Tasmin', 'Erika', 'Tasmin', 'Mike', 'Katie', 'Hannah', 'Mike', 'Hannah', 'Chris', 'Katie', 'Carl', 'Mike', 'Emma', 'Abi', 'Mike', 'Ruth', 'Katie', 'Bill', 'Ruth', 'Darius', 'Mike', 'Calvin', 'Blake', 'Dave', 'Blake', 'Dave', 'Emma', 'Abi', 'Calvin', 'Darius', 'Ali', 'Darius', 'Abi', 'Calvin', 'Katie', 'Tasmin', 'Bill', 'Tasmin', 'Alison', 'Katie', 'Blake', 'Lizzie', 'Abi', 'Katie', 'Lizzie', 'Ruth', 'Owen', 'Alison', 'Abi', 'Erika', 'Aurora', 'Elba', 'Katie', 'Maria', 'Chris']\n"
     ]
    }
   ],
   "source": [
    "for file in swim_files:\n",
    "    swimmers.append(swimclub.read_swim_data(file)[0])\n",
    "print(swimmers)"
   ]
  },
  {
   "cell_type": "code",
   "execution_count": 5,
   "id": "63c10063",
   "metadata": {},
   "outputs": [],
   "source": [
    "names=list(set(swimmers))"
   ]
  },
  {
   "cell_type": "code",
   "execution_count": 6,
   "id": "dd48267e",
   "metadata": {},
   "outputs": [
    {
     "name": "stdout",
     "output_type": "stream",
     "text": [
      "['Abi', 'Tasmin', 'Bill', 'Ruth', 'Erika', 'Emma', 'Darius', 'Ali', 'Dave', 'Carl', 'Owen', 'Elba', 'Alison', 'Aurora', 'Calvin', 'Blake', 'Lizzie', 'Chris', 'Hannah', 'Mike', 'Maria', 'Katie']\n"
     ]
    }
   ],
   "source": [
    "print(names)"
   ]
  },
  {
   "cell_type": "code",
   "execution_count": 7,
   "id": "cab80f2f",
   "metadata": {},
   "outputs": [
    {
     "data": {
      "text/plain": [
       "22"
      ]
     },
     "execution_count": 7,
     "metadata": {},
     "output_type": "execute_result"
    }
   ],
   "source": [
    "len(names)"
   ]
  },
  {
   "cell_type": "code",
   "execution_count": 8,
   "id": "13b9797d",
   "metadata": {},
   "outputs": [
    {
     "name": "stdout",
     "output_type": "stream",
     "text": [
      "['Abi', 'Ali', 'Alison', 'Aurora', 'Bill', 'Blake', 'Calvin', 'Carl', 'Chris', 'Darius', 'Dave', 'Elba', 'Emma', 'Erika', 'Hannah', 'Katie', 'Lizzie', 'Maria', 'Mike', 'Owen', 'Ruth', 'Tasmin']\n"
     ]
    }
   ],
   "source": [
    "print(sorted(names))"
   ]
  },
  {
   "cell_type": "code",
   "execution_count": 12,
   "id": "af6bdaf3",
   "metadata": {},
   "outputs": [],
   "source": [
    "swimmers=[]\n",
    "for file in swim_files:\n",
    "    swimclub.read_swim_data(file)[0]\n",
    "    swimmers.append((swimclub.read_swim_data(file)[0],file))"
   ]
  },
  {
   "cell_type": "code",
   "execution_count": 13,
   "id": "027ad440",
   "metadata": {},
   "outputs": [
    {
     "data": {
      "text/plain": [
       "60"
      ]
     },
     "execution_count": 13,
     "metadata": {},
     "output_type": "execute_result"
    }
   ],
   "source": [
    "len(swim_files)"
   ]
  },
  {
   "cell_type": "code",
   "execution_count": 14,
   "id": "a8464797",
   "metadata": {},
   "outputs": [
    {
     "data": {
      "text/plain": [
       "[('Ruth', 'Ruth-13-200m-Back.txt'),\n",
       " ('Darius', 'Darius-13-100m-Fly.txt'),\n",
       " ('Erika', 'Erika-15-100m-Free.txt'),\n",
       " ('Ruth', 'Ruth-13-200m-Free.txt'),\n",
       " ('Ali', 'Ali-12-100m-Free.txt')]"
      ]
     },
     "execution_count": 14,
     "metadata": {},
     "output_type": "execute_result"
    }
   ],
   "source": [
    "swimmers[:5]"
   ]
  },
  {
   "cell_type": "code",
   "execution_count": 15,
   "id": "340ac9cc",
   "metadata": {},
   "outputs": [
    {
     "name": "stdout",
     "output_type": "stream",
     "text": [
      "['Abi', 'Ali', 'Alison', 'Aurora', 'Bill', 'Blake', 'Calvin', 'Carl', 'Chris', 'Darius', 'Dave', 'Elba', 'Emma', 'Erika', 'Hannah', 'Katie', 'Lizzie', 'Maria', 'Mike', 'Owen', 'Ruth', 'Tasmin']\n"
     ]
    }
   ],
   "source": [
    "names = []\n",
    "\n",
    "for row in swimmers:\n",
    "    if row[0] not in names:\n",
    "        names.append(row[0])\n",
    "print(sorted(names))"
   ]
  },
  {
   "cell_type": "code",
   "execution_count": 16,
   "id": "9383e3f4",
   "metadata": {},
   "outputs": [
    {
     "name": "stdout",
     "output_type": "stream",
     "text": [
      "28 ('Dave', 'Dave-17-100m-Free.txt')\n",
      "30 ('Dave', 'Dave-17-200m-Back.txt')\n"
     ]
    }
   ],
   "source": [
    "for n, event in enumerate(swimmers):\n",
    "    if event[0] == \"Dave\":\n",
    "        print(n, event)"
   ]
  },
  {
   "cell_type": "code",
   "execution_count": null,
   "id": "dc111716",
   "metadata": {},
   "outputs": [],
   "source": []
  }
 ],
 "metadata": {
  "kernelspec": {
   "display_name": "Python 3",
   "language": "python",
   "name": "python3"
  },
  "language_info": {
   "codemirror_mode": {
    "name": "ipython",
    "version": 3
   },
   "file_extension": ".py",
   "mimetype": "text/x-python",
   "name": "python",
   "nbconvert_exporter": "python",
   "pygments_lexer": "ipython3",
   "version": "3.13.2"
  }
 },
 "nbformat": 4,
 "nbformat_minor": 5
}
