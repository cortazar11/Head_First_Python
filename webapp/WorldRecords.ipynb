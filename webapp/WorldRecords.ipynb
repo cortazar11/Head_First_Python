{
 "cells": [
  {
   "cell_type": "code",
   "execution_count": 1,
   "id": "e0ccf670",
   "metadata": {},
   "outputs": [
    {
     "name": "stdout",
     "output_type": "stream",
     "text": [
      "Defaulting to user installation because normal site-packages is not writeable\n",
      "Requirement already satisfied: gazpacho in /home/miguel/.local/lib/python3.13/site-packages (1.1)\n",
      "Note: you may need to restart the kernel to use updated packages.\n"
     ]
    }
   ],
   "source": [
    "%pip install gazpacho --upgrade"
   ]
  },
  {
   "cell_type": "code",
   "execution_count": 2,
   "id": "a974c563",
   "metadata": {},
   "outputs": [],
   "source": [
    "URL= \"https://en.wikipedia.org/wiki/List_of_world_records_in_swimming\""
   ]
  },
  {
   "cell_type": "code",
   "execution_count": 3,
   "id": "dc85c3de",
   "metadata": {},
   "outputs": [],
   "source": [
    "import gazpacho"
   ]
  },
  {
   "cell_type": "code",
   "execution_count": 4,
   "id": "3f0a9e69",
   "metadata": {},
   "outputs": [],
   "source": [
    "html= gazpacho.get(URL)"
   ]
  },
  {
   "cell_type": "code",
   "execution_count": 5,
   "id": "ecbc19a0",
   "metadata": {},
   "outputs": [
    {
     "data": {
      "text/plain": [
       "600570"
      ]
     },
     "execution_count": 5,
     "metadata": {},
     "output_type": "execute_result"
    }
   ],
   "source": [
    "len(html)"
   ]
  },
  {
   "cell_type": "code",
   "execution_count": 6,
   "id": "1a1cc597",
   "metadata": {},
   "outputs": [
    {
     "data": {
      "text/plain": [
       "'<!DOCTYPE html>\\n<html class=\"client-nojs vector-feature-language-in-header-enabled vector-feature-language-in-main-page-header-disabled vector-feature-page-tools-pinned-disabled vector-feature-toc-pinned-clientpref-1 vector-feature-main-menu-pinned-disabled vector-feature-limited-width-clientpref-1 vector-feature-limited-width-content-enabled vector-feature-custom-font-size-clientpref-1 vector-feature-appearance-pinned-clientpref-1 vector-feature-night-mode-enabled skin-theme-clientpref-day vect'"
      ]
     },
     "execution_count": 6,
     "metadata": {},
     "output_type": "execute_result"
    }
   ],
   "source": [
    "html[:500]"
   ]
  },
  {
   "cell_type": "code",
   "execution_count": 7,
   "id": "ae75810a",
   "metadata": {},
   "outputs": [
    {
     "data": {
      "text/plain": [
       "'<table class=\"wikitable sortable\" style=\"font-size: 95%;\">\\n<caption>\\n</caption>\\n<tbody><tr>\\n<th>Event\\n</th>\\n<th style=\"width:4em\" class=\"unsortable\">Time\\n</th>\\n<th class=\"unsortable\">\\n</th>\\n<th>Name</th>\\n<th>Nationality</th>\\n<th>Date</th>\\n<th>Meet</th>\\n<th>Location\\n</th>\\n<th class=\"unsortable\">Ref\\n</th></tr>\\n\\n<tr>\\n<td><span data-sort-value=\"01&#160;!\"><a href=\"/wiki/World_record_progression_50_metres_freestyle\" title=\"World record progression 50 metres freestyle\">50m freestyle</a></span>\\n</td>\\n<'"
      ]
     },
     "execution_count": 7,
     "metadata": {},
     "output_type": "execute_result"
    }
   ],
   "source": [
    "from_where=html.find(\"<table\")\n",
    "html[from_where:from_where+500]"
   ]
  },
  {
   "cell_type": "code",
   "execution_count": 8,
   "id": "0b7ec4f7",
   "metadata": {},
   "outputs": [],
   "source": [
    "soup= gazpacho.Soup(html)"
   ]
  },
  {
   "cell_type": "code",
   "execution_count": 9,
   "id": "1cd91593",
   "metadata": {},
   "outputs": [
    {
     "data": {
      "text/plain": [
       "gazpacho.soup.Soup"
      ]
     },
     "execution_count": 9,
     "metadata": {},
     "output_type": "execute_result"
    }
   ],
   "source": [
    "type(soup)"
   ]
  },
  {
   "cell_type": "code",
   "execution_count": 10,
   "id": "fb8c60dc",
   "metadata": {},
   "outputs": [
    {
     "name": "stdout",
     "output_type": "stream",
     "text": [
      "['attrs', 'find', 'get', 'html', 'strip', 'tag', 'text']\n"
     ]
    }
   ],
   "source": [
    "print(dir(soup))"
   ]
  },
  {
   "cell_type": "code",
   "execution_count": 11,
   "id": "f0673263",
   "metadata": {},
   "outputs": [],
   "source": [
    "tables= soup.find(\"table\")"
   ]
  },
  {
   "cell_type": "code",
   "execution_count": 12,
   "id": "c7b83bc4",
   "metadata": {},
   "outputs": [
    {
     "data": {
      "text/plain": [
       "list"
      ]
     },
     "execution_count": 12,
     "metadata": {},
     "output_type": "execute_result"
    }
   ],
   "source": [
    "type(tables)"
   ]
  },
  {
   "cell_type": "code",
   "execution_count": 13,
   "id": "467c5d25",
   "metadata": {},
   "outputs": [
    {
     "data": {
      "text/plain": [
       "12"
      ]
     },
     "execution_count": 13,
     "metadata": {},
     "output_type": "execute_result"
    }
   ],
   "source": [
    "len(tables)"
   ]
  },
  {
   "cell_type": "code",
   "execution_count": 14,
   "id": "317aebe6",
   "metadata": {},
   "outputs": [],
   "source": [
    "rows= tables[0].find(\"tr\", mode=\"all\")"
   ]
  },
  {
   "cell_type": "code",
   "execution_count": 15,
   "id": "d4c442f6",
   "metadata": {},
   "outputs": [
    {
     "data": {
      "text/plain": [
       "list"
      ]
     },
     "execution_count": 15,
     "metadata": {},
     "output_type": "execute_result"
    }
   ],
   "source": [
    "type(rows)"
   ]
  },
  {
   "cell_type": "code",
   "execution_count": 16,
   "id": "6b67ec2b",
   "metadata": {},
   "outputs": [
    {
     "data": {
      "text/plain": [
       "21"
      ]
     },
     "execution_count": 16,
     "metadata": {},
     "output_type": "execute_result"
    }
   ],
   "source": [
    "len(rows)"
   ]
  },
  {
   "cell_type": "code",
   "execution_count": 17,
   "id": "c7855293",
   "metadata": {},
   "outputs": [
    {
     "data": {
      "text/plain": [
       "<tr>\n",
       "  <th>Event\n",
       "</th>\n",
       "  <th style=\"width:4em\" class=\"unsortable\">Time\n",
       "</th>\n",
       "  <th class=\"unsortable\">\n",
       "</th>\n",
       "  <th>Name</th>\n",
       "  <th>Nationality</th>\n",
       "  <th>Date</th>\n",
       "  <th>Meet</th>\n",
       "  <th>Location\n",
       "</th>\n",
       "  <th class=\"unsortable\">Ref\n",
       "</th>\n",
       "</tr>"
      ]
     },
     "execution_count": 17,
     "metadata": {},
     "output_type": "execute_result"
    }
   ],
   "source": [
    "rows[0]"
   ]
  },
  {
   "cell_type": "code",
   "execution_count": 18,
   "id": "3c873b08",
   "metadata": {},
   "outputs": [
    {
     "name": "stdout",
     "output_type": "stream",
     "text": [
      "0 -> 21 rows -> 9 columns\n",
      "1 -> 1 rows -> 2 columns\n",
      "2 -> 21 rows -> 9 columns\n",
      "3 -> 3 rows -> 9 columns\n",
      "4 -> 25 rows -> 9 columns\n",
      "5 -> 26 rows -> 9 columns\n",
      "6 -> 4 rows -> 9 columns\n",
      "7 -> 26 rows -> 11 columns\n",
      "8 -> 1 rows -> 2 columns\n",
      "9 -> 7 rows -> 1 columns\n",
      "10 -> 5 rows -> 1 columns\n",
      "11 -> 8 rows -> 1 columns\n"
     ]
    }
   ],
   "source": [
    "for n, table in enumerate(tables):\n",
    "    rows= table.find(\"tr\", mode=\"all\")\n",
    "    cols=rows[-1].find(\"td\", mode=\"all\")\n",
    "    print(f\"{n} -> {len(rows)} rows -> {len(cols)} columns\")\n",
    "    "
   ]
  },
  {
   "cell_type": "code",
   "execution_count": 19,
   "id": "a47827ed",
   "metadata": {},
   "outputs": [
    {
     "name": "stdout",
     "output_type": "stream",
     "text": [
      "50m freestyle -> 20.91\n",
      "100m freestyle -> 46.40\n",
      "200m freestyle -> 1:42.00\n",
      "400m freestyle -> 3:40.07\n",
      "800m freestyle -> 7:32.12\n",
      "1500m freestyle -> 14:30.67\n",
      "50m backstroke -> 23.55\n",
      "100m backstroke -> 51.60\n",
      "200m backstroke -> 1:51.92\n",
      "50m breaststroke -> 25.95\n",
      "100m breaststroke -> 56.88\n",
      "200m breaststroke -> 2:05.48\n",
      "50m butterfly -> 22.27\n",
      "100m butterfly -> 49.45\n",
      "200m butterfly -> 1:50.34\n",
      "200m individual medley -> 1:54.00\n",
      "400m individual medley -> 4:02.50\n",
      "4 × 100 m freestyle relay -> 3:08.24\n",
      "4 × 200 m freestyle relay -> 6:58.55\n",
      "4 × 100 m medley relay -> 3:26.78\n"
     ]
    }
   ],
   "source": [
    "table= tables[0]\n",
    "for row in table.find(\"tr\", mode=\"all\")[1:]:\n",
    "    columns=row.find(\"td\", mode=\"all\")\n",
    "    event= columns[0].text\n",
    "    time=columns[1].text\n",
    "    print(f\"{event} -> {time}\")"
   ]
  },
  {
   "cell_type": "code",
   "execution_count": 20,
   "id": "ae3479db",
   "metadata": {},
   "outputs": [],
   "source": [
    "RECORDS=(0,2,4,5)\n",
    "COURSES=(\"LC Men\",\"LC Women\",\"SC Men\",\"SC Women\")"
   ]
  },
  {
   "cell_type": "code",
   "execution_count": 22,
   "id": "3a63ec9e",
   "metadata": {},
   "outputs": [
    {
     "data": {
      "text/plain": [
       "[(0, 'LC Men'), (2, 'LC Women'), (4, 'SC Men'), (5, 'SC Women')]"
      ]
     },
     "execution_count": 22,
     "metadata": {},
     "output_type": "execute_result"
    }
   ],
   "source": [
    "list(zip(RECORDS, COURSES))"
   ]
  },
  {
   "cell_type": "code",
   "execution_count": 27,
   "id": "c249dee5",
   "metadata": {},
   "outputs": [
    {
     "name": "stdout",
     "output_type": "stream",
     "text": [
      "LC Men:\n",
      "\t50m freestyle -> 20.91\n",
      "\n",
      "\t100m freestyle -> 46.40\n",
      "\n",
      "\t200m freestyle -> 1:42.00\n",
      "\n",
      "\t400m freestyle -> 3:40.07\n",
      "\n",
      "\t800m freestyle -> 7:32.12\n",
      "\n",
      "\t1500m freestyle -> 14:30.67\n",
      "\n",
      "\t50m backstroke -> 23.55\n",
      "\n",
      "\t100m backstroke -> 51.60\n",
      "\n",
      "\t200m backstroke -> 1:51.92\n",
      "\n",
      "\t50m breaststroke -> 25.95\n",
      "\n",
      "\t100m breaststroke -> 56.88\n",
      "\n",
      "\t200m breaststroke -> 2:05.48\n",
      "\n",
      "\t50m butterfly -> 22.27\n",
      "\n",
      "\t100m butterfly -> 49.45\n",
      "\n",
      "\t200m butterfly -> 1:50.34\n",
      "\n",
      "\t200m individual medley -> 1:54.00\n",
      "\n",
      "\t400m individual medley -> 4:02.50\n",
      "\n",
      "\t4 × 100 m freestyle relay -> 3:08.24\n",
      "\n",
      "\t4 × 200 m freestyle relay -> 6:58.55\n",
      "\n",
      "\t4 × 100 m medley relay -> 3:26.78\n",
      "\n",
      "LC Women:\n",
      "\t50m freestyle -> 23.61\n",
      "\n",
      "\t100m freestyle -> 51.71\n",
      "\n",
      "\t200m freestyle -> 1:52.23\n",
      "\n",
      "\t400m freestyle -> 3:55.38\n",
      "\n",
      "\t800m freestyle -> 8:04.79\n",
      "\n",
      "\t1500m freestyle -> 15:20.48\n",
      "\n",
      "\t50m backstroke -> 26.86\n",
      "\n",
      "\t100m backstroke -> 57.13\n",
      "\n",
      "\t200m backstroke -> 2:03.14\n",
      "\n",
      "\t50m breaststroke -> 29.16\n",
      "\n",
      "\t100m breaststroke -> 1:04.13\n",
      "\n",
      "\t200m breaststroke -> 2:17.55\n",
      "\n",
      "\t50m butterfly -> 24.43\n",
      "\n",
      "\t100m butterfly -> 55.18\n",
      "\n",
      "\t200m butterfly -> 2:01.81\n",
      "\n",
      "\t200m individual medley -> 2:06.12\n",
      "\n",
      "\t400m individual medley -> 4:24.38\n",
      "\n",
      "\t4 × 100 m freestyle relay -> 3:27.96\n",
      "\n",
      "\t4 × 200 m freestyle relay -> 7:37.50\n",
      "\n",
      "\t4 × 100 m medley relay -> 3:49.63\n",
      "\n",
      "SC Men:\n",
      "\t50m freestyle -> 19.90\n",
      "\n",
      "\t100m freestyle -> 44.84\n",
      "\n",
      "\t200m freestyle -> 1:38.61\n",
      "\n",
      "\t400m freestyle -> 3:32.25\n",
      "\n",
      "\t800m freestyle -> 7:20.46\n",
      "\n",
      "\t1500m freestyle -> 14:06.88\n",
      "\n",
      "\t50m backstroke -> 22.11\n",
      "\n",
      "\t100m backstroke -> 48.33\n",
      "\n",
      "\t200m backstroke -> 1:45.63\n",
      "\n",
      "\t50m breaststroke -> 24.95\n",
      "\n",
      "\t100m breaststroke -> 55.28\n",
      "\n",
      "\t200m breaststroke -> 2:00.16\n",
      "\n",
      "\t50m butterfly -> 21.32\n",
      "\n",
      "\t100m butterfly -> 47.71\n",
      "\n",
      "\t200m butterfly -> 1:46.85\n",
      "\n",
      "\t100m individual medley -> 49.28\n",
      "\n",
      "\t200m individual medley -> 1:48.88\n",
      "\n",
      "\t400m individual medley -> 3:54.81\n",
      "\n",
      "\t4 × 50 m freestyle relay -> 1:21.80\n",
      "\n",
      "\t4 × 50 m freestyle relay -> 1:20.77\n",
      "\n",
      "\t4 × 100 m freestyle relay -> 3:01.66\n",
      "\n",
      "\t4 × 200 m freestyle relay -> 6:40.51\n",
      "\n",
      "\t4 × 50 m medley relay -> 1:29.72\n",
      "\n",
      "\t4 × 100 m medley relay -> 3:18.68\n",
      "\n",
      "SC Women:\n",
      "\t50m freestyle -> 22.83\n",
      "\n",
      "\t100m freestyle -> 50.25\n",
      "\n",
      "\t200m freestyle -> 1:50.31\n",
      "\n",
      "\t400m freestyle -> 3:50.25\n",
      "\n",
      "\t800m freestyle -> 7:57.42\n",
      "\n",
      "\t1500m freestyle -> 15:08.24\n",
      "\n",
      "\t50m backstroke -> 25.23\n",
      "\n",
      "\t100m backstroke -> 54.02\n",
      "\n",
      "\t200m backstroke -> 1:58.04\n",
      "\n",
      "\t50m breaststroke -> 28.37\n",
      "\n",
      "\t100m breaststroke -> 1:02.36\n",
      "\n",
      "\t100m breaststroke -> 1:02.36\n",
      "\n",
      "\t100m breaststroke -> 1:02.36\n",
      "\n",
      "\t200m breaststroke -> 2:12.50\n",
      "\n",
      "\t50m butterfly -> 23.94\n",
      "\n",
      "\t100m butterfly -> 52.71\n",
      "\n",
      "\t200m butterfly -> 1:59.32\n",
      "\n",
      "\t100m individual medley -> 55.11\n",
      "\n",
      "\t200m individual medley -> 2:01.63\n",
      "\n",
      "\t400m individual medley -> 4:15.48\n",
      "\n",
      "\t4 × 50 m freestyle relay -> 1:32.50\n",
      "\n",
      "\t4 × 100 m freestyle relay -> 3:25.01\n",
      "\n",
      "\t4 × 200 m freestyle relay -> 7:30.13\n",
      "\n",
      "\t4 × 50 m medley relay -> 1:42.35\n",
      "\n",
      "\t4 × 100 m medley relay -> 3:40.41\n",
      "\n"
     ]
    }
   ],
   "source": [
    "for table,course in zip(RECORDS, COURSES):\n",
    "    print(f\"{course}:\")\n",
    "    for row in tables[table].find(\"tr\", mode=\"all\")[1:]:\n",
    "        columns = row.find(\"td\",mode=\"all\")\n",
    "        event= columns[0].text\n",
    "        time= columns[1].text\n",
    "        print(f\"\\t{event} -> {time}\")\n",
    "        print()\n",
    "\n",
    "\n"
   ]
  },
  {
   "cell_type": "code",
   "execution_count": 43,
   "id": "e72d8175",
   "metadata": {},
   "outputs": [],
   "source": [
    "records={}\n",
    "for table,course in zip(RECORDS, COURSES):\n",
    "    records[course]={}\n",
    "    for row in tables[table].find(\"tr\", mode=\"all\")[1:]:\n",
    "        columns = row.find(\"td\",mode=\"all\")\n",
    "        event= columns[0].text\n",
    "        time= columns[1].text\n",
    "        if \"relay not in event\":\n",
    "            event=event.replace(\" relay\",\"\")\n",
    "        records[course][event]=time"
   ]
  },
  {
   "cell_type": "code",
   "execution_count": 44,
   "id": "08aa7218",
   "metadata": {},
   "outputs": [
    {
     "data": {
      "text/plain": [
       "dict_keys(['LC Men', 'LC Women', 'SC Men', 'SC Women'])"
      ]
     },
     "execution_count": 44,
     "metadata": {},
     "output_type": "execute_result"
    }
   ],
   "source": [
    "records.keys()"
   ]
  },
  {
   "cell_type": "code",
   "execution_count": 45,
   "id": "adbf8c50",
   "metadata": {},
   "outputs": [
    {
     "data": {
      "text/plain": [
       "{'50m freestyle': '20.91',\n",
       " '100m freestyle': '46.40',\n",
       " '200m freestyle': '1:42.00',\n",
       " '400m freestyle': '3:40.07',\n",
       " '800m freestyle': '7:32.12',\n",
       " '1500m freestyle': '14:30.67',\n",
       " '50m backstroke': '23.55',\n",
       " '100m backstroke': '51.60',\n",
       " '200m backstroke': '1:51.92',\n",
       " '50m breaststroke': '25.95',\n",
       " '100m breaststroke': '56.88',\n",
       " '200m breaststroke': '2:05.48',\n",
       " '50m butterfly': '22.27',\n",
       " '100m butterfly': '49.45',\n",
       " '200m butterfly': '1:50.34',\n",
       " '200m individual medley': '1:54.00',\n",
       " '400m individual medley': '4:02.50',\n",
       " '4 × 100 m freestyle': '3:08.24',\n",
       " '4 × 200 m freestyle': '6:58.55',\n",
       " '4 × 100 m medley': '3:26.78'}"
      ]
     },
     "execution_count": 45,
     "metadata": {},
     "output_type": "execute_result"
    }
   ],
   "source": [
    "records[\"LC Men\"]"
   ]
  },
  {
   "cell_type": "code",
   "execution_count": 31,
   "id": "ff6a3bb5",
   "metadata": {},
   "outputs": [
    {
     "data": {
      "text/plain": [
       "'54.02'"
      ]
     },
     "execution_count": 31,
     "metadata": {},
     "output_type": "execute_result"
    }
   ],
   "source": [
    "records[\"SC Women\"][\"100m backstroke\"]"
   ]
  },
  {
   "cell_type": "code",
   "execution_count": 36,
   "id": "6b1de18c",
   "metadata": {},
   "outputs": [],
   "source": [
    "conversions={\n",
    "    \"Free\":\"freestyle\",\n",
    "    \"Back\":\"backstroke\",\n",
    "    \"Breast\":\"breaststroke\",\n",
    "    \"Fly\":\"butterfly\",\n",
    "    \"IM\":\"individual_medley\"\n",
    "}"
   ]
  },
  {
   "cell_type": "code",
   "execution_count": 40,
   "id": "0a2353a6",
   "metadata": {},
   "outputs": [
    {
     "data": {
      "text/plain": [
       "'100m butterfly'"
      ]
     },
     "execution_count": 40,
     "metadata": {},
     "output_type": "execute_result"
    }
   ],
   "source": [
    "event=\"Mike-15-100m-Fly.txt\"\n",
    "*_,distance,stroke=event.removesuffix(\".txt\").split(\"-\")\n",
    "lookup=f\"{distance} {conversions[stroke]}\"\n",
    "lookup"
   ]
  },
  {
   "cell_type": "code",
   "execution_count": 41,
   "id": "143dce75",
   "metadata": {},
   "outputs": [
    {
     "name": "stdout",
     "output_type": "stream",
     "text": [
      "49.45\n",
      "55.18\n",
      "47.71\n",
      "52.71\n"
     ]
    }
   ],
   "source": [
    "for course in records.keys():\n",
    "    print(f\"{records[course][lookup]}\")"
   ]
  },
  {
   "cell_type": "code",
   "execution_count": 42,
   "id": "dd446b62",
   "metadata": {},
   "outputs": [
    {
     "data": {
      "text/plain": [
       "{'50m freestyle': '20.91',\n",
       " '100m freestyle': '46.40',\n",
       " '200m freestyle': '1:42.00',\n",
       " '400m freestyle': '3:40.07',\n",
       " '800m freestyle': '7:32.12',\n",
       " '1500m freestyle': '14:30.67',\n",
       " '50m backstroke': '23.55',\n",
       " '100m backstroke': '51.60',\n",
       " '200m backstroke': '1:51.92',\n",
       " '50m breaststroke': '25.95',\n",
       " '100m breaststroke': '56.88',\n",
       " '200m breaststroke': '2:05.48',\n",
       " '50m butterfly': '22.27',\n",
       " '100m butterfly': '49.45',\n",
       " '200m butterfly': '1:50.34',\n",
       " '200m individual medley': '1:54.00',\n",
       " '400m individual medley': '4:02.50',\n",
       " '4 × 100 m freestyle relay': '3:08.24',\n",
       " '4 × 200 m freestyle relay': '6:58.55',\n",
       " '4 × 100 m medley relay': '3:26.78'}"
      ]
     },
     "execution_count": 42,
     "metadata": {},
     "output_type": "execute_result"
    }
   ],
   "source": [
    "records[\"LC Men\"]"
   ]
  },
  {
   "cell_type": "code",
   "execution_count": 46,
   "id": "27c08677",
   "metadata": {},
   "outputs": [],
   "source": [
    "import json"
   ]
  },
  {
   "cell_type": "code",
   "execution_count": 49,
   "id": "60398b55",
   "metadata": {},
   "outputs": [],
   "source": [
    "with open(\"records.json\",\"w\") as jf:\n",
    "    json.dump(records, jf, indent=4)"
   ]
  },
  {
   "cell_type": "code",
   "execution_count": null,
   "id": "d54e6b9f",
   "metadata": {},
   "outputs": [],
   "source": []
  }
 ],
 "metadata": {
  "kernelspec": {
   "display_name": "Python 3",
   "language": "python",
   "name": "python3"
  },
  "language_info": {
   "codemirror_mode": {
    "name": "ipython",
    "version": 3
   },
   "file_extension": ".py",
   "mimetype": "text/x-python",
   "name": "python",
   "nbconvert_exporter": "python",
   "pygments_lexer": "ipython3",
   "version": "3.13.2"
  }
 },
 "nbformat": 4,
 "nbformat_minor": 5
}
