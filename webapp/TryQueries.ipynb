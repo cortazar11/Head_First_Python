{
 "cells": [
  {
   "cell_type": "code",
   "execution_count": 1,
   "id": "5a828fa7",
   "metadata": {},
   "outputs": [
    {
     "name": "stdout",
     "output_type": "stream",
     "text": [
      "['SQL_CHART_DATA_BY_SWIMMER_EVENT_SESSION', 'SQL_SESSIONS', 'SQL_SWIMMERS_BY_SESSION', 'SQL_SWIMMERS_EVENTS_BY_SESSION', '__builtins__', '__cached__', '__doc__', '__file__', '__loader__', '__name__', '__package__', '__spec__']\n"
     ]
    }
   ],
   "source": [
    "import queries\n",
    "print(dir(queries))"
   ]
  },
  {
   "cell_type": "code",
   "execution_count": 2,
   "id": "d58506ed",
   "metadata": {},
   "outputs": [
    {
     "data": {
      "text/plain": [
       "['SQL_CHART_DATA_BY_SWIMMER_EVENT_SESSION',\n",
       " 'SQL_SESSIONS',\n",
       " 'SQL_SWIMMERS_BY_SESSION',\n",
       " 'SQL_SWIMMERS_EVENTS_BY_SESSION']"
      ]
     },
     "execution_count": 2,
     "metadata": {},
     "output_type": "execute_result"
    }
   ],
   "source": [
    "# Ensure CELL INDEX 0 is executed before running this cell\n",
    "statements = []\n",
    "for sql in dir(queries):\n",
    "    if not sql.startswith('__'):\n",
    "        statements.append(sql)\n",
    "statements"
   ]
  },
  {
   "cell_type": "code",
   "execution_count": 3,
   "id": "bbb157a2",
   "metadata": {},
   "outputs": [
    {
     "data": {
      "text/plain": [
       "['SQL_CHART_DATA_BY_SWIMMER_EVENT_SESSION',\n",
       " 'SQL_SESSIONS',\n",
       " 'SQL_SWIMMERS_BY_SESSION',\n",
       " 'SQL_SWIMMERS_EVENTS_BY_SESSION']"
      ]
     },
     "execution_count": 3,
     "metadata": {},
     "output_type": "execute_result"
    }
   ],
   "source": [
    "\n",
    "[sql for sql in dir(queries)if not sql.startswith('__')]"
   ]
  },
  {
   "cell_type": "code",
   "execution_count": 4,
   "id": "67c3ad7a",
   "metadata": {},
   "outputs": [
    {
     "name": "stdout",
     "output_type": "stream",
     "text": [
      "['__add__', '__class__', '__class_getitem__', '__contains__', '__delattr__', '__delitem__', '__dir__', '__doc__', '__eq__', '__format__', '__ge__', '__getattribute__', '__getitem__', '__getstate__', '__gt__', '__hash__', '__iadd__', '__imul__', '__init__', '__init_subclass__', '__iter__', '__le__', '__len__', '__lt__', '__mul__', '__ne__', '__new__', '__reduce__', '__reduce_ex__', '__repr__', '__reversed__', '__rmul__', '__setattr__', '__setitem__', '__sizeof__', '__str__', '__subclasshook__', 'append', 'clear', 'copy', 'count', 'extend', 'index', 'insert', 'pop', 'remove', 'reverse', 'sort']\n"
     ]
    }
   ],
   "source": [
    "print(dir(list))"
   ]
  },
  {
   "cell_type": "code",
   "execution_count": 5,
   "id": "16f12552",
   "metadata": {},
   "outputs": [
    {
     "data": {
      "text/plain": [
       "['append',\n",
       " 'clear',\n",
       " 'copy',\n",
       " 'count',\n",
       " 'extend',\n",
       " 'index',\n",
       " 'insert',\n",
       " 'pop',\n",
       " 'remove',\n",
       " 'reverse',\n",
       " 'sort']"
      ]
     },
     "execution_count": 5,
     "metadata": {},
     "output_type": "execute_result"
    }
   ],
   "source": [
    "[x for x in dir(list) if not x.startswith('__')]"
   ]
  },
  {
   "cell_type": "code",
   "execution_count": 6,
   "id": "99243175",
   "metadata": {},
   "outputs": [],
   "source": [
    "import DBcm\n",
    "db_details=\"CoachDB.sqlite3\""
   ]
  },
  {
   "cell_type": "code",
   "execution_count": 7,
   "id": "1dbab502",
   "metadata": {},
   "outputs": [
    {
     "name": "stdout",
     "output_type": "stream",
     "text": [
      "\n",
      "    select distinct ts from times\n",
      "\n"
     ]
    }
   ],
   "source": [
    "from queries import SQL_SESSIONS\n",
    "print(SQL_SESSIONS)"
   ]
  },
  {
   "cell_type": "code",
   "execution_count": 8,
   "id": "9a0d8e9b",
   "metadata": {},
   "outputs": [
    {
     "data": {
      "text/plain": [
       "[('2025-04-15 09:21:24',), ('2025-04-16 07:45:50',), ('2025-04-16 07:57:33',)]"
      ]
     },
     "execution_count": 8,
     "metadata": {},
     "output_type": "execute_result"
    }
   ],
   "source": [
    "with DBcm.UseDatabase(db_details) as db:\n",
    "    db.execute(SQL_SESSIONS)\n",
    "    results = db.fetchall()\n",
    "results"
   ]
  },
  {
   "cell_type": "code",
   "execution_count": 9,
   "id": "2d2359bb",
   "metadata": {},
   "outputs": [],
   "source": [
    "!python3 update_tables.py"
   ]
  },
  {
   "cell_type": "code",
   "execution_count": 10,
   "id": "a0c03994",
   "metadata": {},
   "outputs": [
    {
     "data": {
      "text/plain": [
       "[('2025-04-15 09:21:24',),\n",
       " ('2025-04-16 07:45:50',),\n",
       " ('2025-04-16 07:57:33',),\n",
       " ('2025-04-16 08:08:03',),\n",
       " ('2025-04-16 08:08:04',)]"
      ]
     },
     "execution_count": 10,
     "metadata": {},
     "output_type": "execute_result"
    }
   ],
   "source": [
    "with DBcm.UseDatabase(db_details) as db:\n",
    "    db.execute(SQL_SESSIONS)\n",
    "    results = db.fetchall()\n",
    "results "
   ]
  },
  {
   "cell_type": "code",
   "execution_count": 11,
   "id": "0ec822da",
   "metadata": {},
   "outputs": [
    {
     "name": "stdout",
     "output_type": "stream",
     "text": [
      "\n",
      "    select distinct swimmers.name, swimmers.age  \n",
      "    from times, swimmers \n",
      "    where date(times.ts) = ? and     \n",
      "    times.swimmer_id = swimmers.id \n",
      "    order by name\n",
      "\n"
     ]
    }
   ],
   "source": [
    "from queries import SQL_SWIMMERS_BY_SESSION\n",
    "\n",
    "print(SQL_SWIMMERS_BY_SESSION)"
   ]
  },
  {
   "cell_type": "code",
   "execution_count": 12,
   "id": "2486b06c",
   "metadata": {},
   "outputs": [
    {
     "data": {
      "text/plain": [
       "[('Abi', 10),\n",
       " ('Ali', 12),\n",
       " ('Alison', 14),\n",
       " ('Aurora', 13),\n",
       " ('Bill', 18),\n",
       " ('Blake', 15),\n",
       " ('Calvin', 9),\n",
       " ('Carl', 15),\n",
       " ('Chris', 17),\n",
       " ('Darius', 13),\n",
       " ('Dave', 17),\n",
       " ('Elba', 14),\n",
       " ('Emma', 13),\n",
       " ('Erika', 15),\n",
       " ('Hannah', 13),\n",
       " ('Katie', 9),\n",
       " ('Lizzie', 14),\n",
       " ('Maria', 9),\n",
       " ('Mike', 15),\n",
       " ('Owen', 15),\n",
       " ('Ruth', 13),\n",
       " ('Tasmin', 15)]"
      ]
     },
     "execution_count": 12,
     "metadata": {},
     "output_type": "execute_result"
    }
   ],
   "source": [
    "\n",
    "\n",
    "with DBcm.UseDatabase(db_details) as db:\n",
    "    db.execute(SQL_SWIMMERS_BY_SESSION, (\"2025-04-15\",))\n",
    "    results = db.fetchall()\n",
    "results"
   ]
  },
  {
   "cell_type": "code",
   "execution_count": 13,
   "id": "5a05a184",
   "metadata": {},
   "outputs": [
    {
     "data": {
      "text/plain": [
       "[('Abi', 10),\n",
       " ('Ali', 12),\n",
       " ('Alison', 14),\n",
       " ('Aurora', 13),\n",
       " ('Bill', 18),\n",
       " ('Blake', 15),\n",
       " ('Calvin', 9),\n",
       " ('Carl', 15),\n",
       " ('Chris', 17),\n",
       " ('Darius', 13),\n",
       " ('Dave', 17),\n",
       " ('Elba', 14),\n",
       " ('Emma', 13),\n",
       " ('Erika', 15),\n",
       " ('Hannah', 13),\n",
       " ('Katie', 9),\n",
       " ('Lizzie', 14),\n",
       " ('Maria', 9),\n",
       " ('Mike', 15),\n",
       " ('Owen', 15),\n",
       " ('Ruth', 13),\n",
       " ('Tasmin', 15)]"
      ]
     },
     "execution_count": 13,
     "metadata": {},
     "output_type": "execute_result"
    }
   ],
   "source": [
    "with DBcm.UseDatabase(db_details) as db:\n",
    "    db.execute(SQL_SWIMMERS_BY_SESSION, (\"2025-04-16\",))\n",
    "    results = db.fetchall()\n",
    "results"
   ]
  },
  {
   "cell_type": "code",
   "execution_count": 14,
   "id": "223e5170",
   "metadata": {},
   "outputs": [
    {
     "name": "stdout",
     "output_type": "stream",
     "text": [
      "  \n",
      "    select distinct events.distance, events.stroke\n",
      "    from swimmers, events, times\n",
      "    where times.swimmer_id = swimmers.id and\n",
      "    times.event_id = events.id and\n",
      "    (swimmers.name = ? and swimmers.age = ?) and\n",
      "    date(times.ts) = ?\n",
      "\n"
     ]
    }
   ],
   "source": [
    "from queries import SQL_SWIMMERS_EVENTS_BY_SESSION\n",
    "\n",
    "print(SQL_SWIMMERS_EVENTS_BY_SESSION)"
   ]
  },
  {
   "cell_type": "code",
   "execution_count": 18,
   "id": "323c9ed6",
   "metadata": {},
   "outputs": [
    {
     "data": {
      "text/plain": [
       "[('100m', 'Back'), ('100m', 'Free'), ('100m', 'Breast'), ('200m', 'Breast')]"
      ]
     },
     "execution_count": 18,
     "metadata": {},
     "output_type": "execute_result"
    }
   ],
   "source": [
    "with DBcm.UseDatabase(db_details) as db:\n",
    "    db.execute(SQL_SWIMMERS_EVENTS_BY_SESSION, (\"Tasmin\", 15, \"2025-04-15\",))  \n",
    "    results = db.fetchall()\n",
    "results"
   ]
  },
  {
   "cell_type": "code",
   "execution_count": 16,
   "id": "7577c9f2",
   "metadata": {},
   "outputs": [
    {
     "name": "stdout",
     "output_type": "stream",
     "text": [
      "\n",
      "    select times.time\n",
      "    from swimmers, events, times\n",
      "    where (swimmers.name = ? and swimmers.age = ?) and\n",
      "    (events.distance = ? and events.stroke = ?) and \n",
      "    swimmers.id = times.swimmer_id and\n",
      "    events.id = times.event_id and\n",
      "    date(times.ts) = ?\n",
      "\n"
     ]
    }
   ],
   "source": [
    "from queries import SQL_CHART_DATA_BY_SWIMMER_EVENT_SESSION\n",
    "\n",
    "print(SQL_CHART_DATA_BY_SWIMMER_EVENT_SESSION)"
   ]
  },
  {
   "cell_type": "code",
   "execution_count": 17,
   "id": "9e4bbafa",
   "metadata": {},
   "outputs": [
    {
     "data": {
      "text/plain": [
       "[]"
      ]
     },
     "execution_count": 17,
     "metadata": {},
     "output_type": "execute_result"
    }
   ],
   "source": [
    "with DBcm.UseDatabase(db_details) as db:\n",
    "    db.execute(SQL_CHART_DATA_BY_SWIMMER_EVENT_SESSION, (\"Tasmin\", 13, \"100m\", \"Fly\", \"2025-04-15\",))  \n",
    "    results = db.fetchall()\n",
    "results"
   ]
  },
  {
   "cell_type": "code",
   "execution_count": null,
   "id": "b5ec2550",
   "metadata": {},
   "outputs": [],
   "source": []
  }
 ],
 "metadata": {
  "kernelspec": {
   "display_name": "Python 3",
   "language": "python",
   "name": "python3"
  },
  "language_info": {
   "codemirror_mode": {
    "name": "ipython",
    "version": 3
   },
   "file_extension": ".py",
   "mimetype": "text/x-python",
   "name": "python",
   "nbconvert_exporter": "python",
   "pygments_lexer": "ipython3",
   "version": "3.11.9"
  }
 },
 "nbformat": 4,
 "nbformat_minor": 5
}
