{
 "cells": [
  {
   "cell_type": "code",
   "execution_count": 1,
   "id": "4904fd9e",
   "metadata": {},
   "outputs": [
    {
     "name": "stdout",
     "output_type": "stream",
     "text": [
      "Requirement already satisfied: pandas in c:\\users\\migue\\appdata\\local\\packages\\pythonsoftwarefoundation.python.3.11_qbz5n2kfra8p0\\localcache\\local-packages\\python311\\site-packages (2.2.3)\n",
      "Requirement already satisfied: lxml in c:\\users\\migue\\appdata\\local\\packages\\pythonsoftwarefoundation.python.3.11_qbz5n2kfra8p0\\localcache\\local-packages\\python311\\site-packages (5.3.2)\n",
      "Requirement already satisfied: numpy>=1.23.2 in c:\\users\\migue\\appdata\\local\\packages\\pythonsoftwarefoundation.python.3.11_qbz5n2kfra8p0\\localcache\\local-packages\\python311\\site-packages (from pandas) (2.2.3)\n",
      "Requirement already satisfied: python-dateutil>=2.8.2 in c:\\users\\migue\\appdata\\local\\packages\\pythonsoftwarefoundation.python.3.11_qbz5n2kfra8p0\\localcache\\local-packages\\python311\\site-packages (from pandas) (2.9.0.post0)\n",
      "Requirement already satisfied: pytz>=2020.1 in c:\\users\\migue\\appdata\\local\\packages\\pythonsoftwarefoundation.python.3.11_qbz5n2kfra8p0\\localcache\\local-packages\\python311\\site-packages (from pandas) (2025.1)\n",
      "Requirement already satisfied: tzdata>=2022.7 in c:\\users\\migue\\appdata\\local\\packages\\pythonsoftwarefoundation.python.3.11_qbz5n2kfra8p0\\localcache\\local-packages\\python311\\site-packages (from pandas) (2025.1)\n",
      "Requirement already satisfied: six>=1.5 in c:\\users\\migue\\appdata\\local\\packages\\pythonsoftwarefoundation.python.3.11_qbz5n2kfra8p0\\localcache\\local-packages\\python311\\site-packages (from python-dateutil>=2.8.2->pandas) (1.17.0)\n",
      "Note: you may need to restart the kernel to use updated packages.\n"
     ]
    }
   ],
   "source": [
    "%pip install pandas lxml --upgrade"
   ]
  },
  {
   "cell_type": "code",
   "execution_count": 2,
   "id": "0062bebc",
   "metadata": {},
   "outputs": [],
   "source": [
    "import pandas as pd"
   ]
  },
  {
   "cell_type": "code",
   "execution_count": 3,
   "id": "304b0767",
   "metadata": {},
   "outputs": [],
   "source": [
    "URL=\"https://en.wikipedia.org/wiki/List_of_world_records_in_swimming\""
   ]
  },
  {
   "cell_type": "code",
   "execution_count": 4,
   "id": "8a61fd8f",
   "metadata": {},
   "outputs": [],
   "source": [
    "tables= pd.read_html(URL)"
   ]
  },
  {
   "cell_type": "code",
   "execution_count": 5,
   "id": "367b3361",
   "metadata": {},
   "outputs": [
    {
     "data": {
      "text/html": [
       "<div>\n",
       "<style scoped>\n",
       "    .dataframe tbody tr th:only-of-type {\n",
       "        vertical-align: middle;\n",
       "    }\n",
       "\n",
       "    .dataframe tbody tr th {\n",
       "        vertical-align: top;\n",
       "    }\n",
       "\n",
       "    .dataframe thead th {\n",
       "        text-align: right;\n",
       "    }\n",
       "</style>\n",
       "<table border=\"1\" class=\"dataframe\">\n",
       "  <thead>\n",
       "    <tr style=\"text-align: right;\">\n",
       "      <th></th>\n",
       "      <th>Event</th>\n",
       "      <th>Time</th>\n",
       "      <th>Unnamed: 2</th>\n",
       "      <th>Name</th>\n",
       "      <th>Nationality</th>\n",
       "      <th>Date</th>\n",
       "      <th>Meet</th>\n",
       "      <th>Location</th>\n",
       "      <th>Ref</th>\n",
       "    </tr>\n",
       "  </thead>\n",
       "  <tbody>\n",
       "    <tr>\n",
       "      <th>0</th>\n",
       "      <td>50m freestyle</td>\n",
       "      <td>20.91</td>\n",
       "      <td>ss</td>\n",
       "      <td>César Cielo</td>\n",
       "      <td>Brazil</td>\n",
       "      <td>18 December 2009</td>\n",
       "      <td>Brazilian Championships</td>\n",
       "      <td>São Paulo, Brazil</td>\n",
       "      <td>[9][10][11][12]</td>\n",
       "    </tr>\n",
       "    <tr>\n",
       "      <th>1</th>\n",
       "      <td>100m freestyle</td>\n",
       "      <td>46.40</td>\n",
       "      <td>NaN</td>\n",
       "      <td>Pan Zhanle</td>\n",
       "      <td>China</td>\n",
       "      <td>31 July 2024</td>\n",
       "      <td>Olympic Games</td>\n",
       "      <td>Paris, France</td>\n",
       "      <td>[13]</td>\n",
       "    </tr>\n",
       "    <tr>\n",
       "      <th>2</th>\n",
       "      <td>200m freestyle</td>\n",
       "      <td>1:42.00</td>\n",
       "      <td>ss</td>\n",
       "      <td>Paul Biedermann</td>\n",
       "      <td>Germany</td>\n",
       "      <td>28 July 2009</td>\n",
       "      <td>World Championships</td>\n",
       "      <td>Rome, Italy</td>\n",
       "      <td>[14][15][16]</td>\n",
       "    </tr>\n",
       "    <tr>\n",
       "      <th>3</th>\n",
       "      <td>400m freestyle</td>\n",
       "      <td>3:39.96</td>\n",
       "      <td>NaN</td>\n",
       "      <td>Lukas Märtens</td>\n",
       "      <td>Germany</td>\n",
       "      <td>12 April 2025</td>\n",
       "      <td>Swim Open Stockholm</td>\n",
       "      <td>Stockholm, Sweden</td>\n",
       "      <td>[17]</td>\n",
       "    </tr>\n",
       "    <tr>\n",
       "      <th>4</th>\n",
       "      <td>800m freestyle</td>\n",
       "      <td>7:32.12</td>\n",
       "      <td>ss</td>\n",
       "      <td>Zhang Lin</td>\n",
       "      <td>China</td>\n",
       "      <td>29 July 2009</td>\n",
       "      <td>World Championships</td>\n",
       "      <td>Rome, Italy</td>\n",
       "      <td>[18][19]</td>\n",
       "    </tr>\n",
       "  </tbody>\n",
       "</table>\n",
       "</div>"
      ],
      "text/plain": [
       "            Event     Time Unnamed: 2             Name Nationality  \\\n",
       "0   50m freestyle    20.91         ss      César Cielo      Brazil   \n",
       "1  100m freestyle    46.40        NaN       Pan Zhanle       China   \n",
       "2  200m freestyle  1:42.00         ss  Paul Biedermann     Germany   \n",
       "3  400m freestyle  3:39.96        NaN    Lukas Märtens     Germany   \n",
       "4  800m freestyle  7:32.12         ss        Zhang Lin       China   \n",
       "\n",
       "               Date                     Meet           Location  \\\n",
       "0  18 December 2009  Brazilian Championships  São Paulo, Brazil   \n",
       "1      31 July 2024            Olympic Games      Paris, France   \n",
       "2      28 July 2009      World Championships        Rome, Italy   \n",
       "3     12 April 2025      Swim Open Stockholm  Stockholm, Sweden   \n",
       "4      29 July 2009      World Championships        Rome, Italy   \n",
       "\n",
       "               Ref  \n",
       "0  [9][10][11][12]  \n",
       "1             [13]  \n",
       "2     [14][15][16]  \n",
       "3             [17]  \n",
       "4         [18][19]  "
      ]
     },
     "execution_count": 5,
     "metadata": {},
     "output_type": "execute_result"
    }
   ],
   "source": [
    "tables[0].head()"
   ]
  },
  {
   "cell_type": "code",
   "execution_count": 6,
   "id": "0718324a",
   "metadata": {},
   "outputs": [],
   "source": [
    "df=tables[0][[\"Event\",\"Time\"]]"
   ]
  },
  {
   "cell_type": "code",
   "execution_count": 7,
   "id": "dcd31d18",
   "metadata": {},
   "outputs": [
    {
     "data": {
      "text/html": [
       "<div>\n",
       "<style scoped>\n",
       "    .dataframe tbody tr th:only-of-type {\n",
       "        vertical-align: middle;\n",
       "    }\n",
       "\n",
       "    .dataframe tbody tr th {\n",
       "        vertical-align: top;\n",
       "    }\n",
       "\n",
       "    .dataframe thead th {\n",
       "        text-align: right;\n",
       "    }\n",
       "</style>\n",
       "<table border=\"1\" class=\"dataframe\">\n",
       "  <thead>\n",
       "    <tr style=\"text-align: right;\">\n",
       "      <th></th>\n",
       "      <th>Event</th>\n",
       "      <th>Time</th>\n",
       "    </tr>\n",
       "  </thead>\n",
       "  <tbody>\n",
       "    <tr>\n",
       "      <th>0</th>\n",
       "      <td>50m freestyle</td>\n",
       "      <td>20.91</td>\n",
       "    </tr>\n",
       "    <tr>\n",
       "      <th>1</th>\n",
       "      <td>100m freestyle</td>\n",
       "      <td>46.40</td>\n",
       "    </tr>\n",
       "    <tr>\n",
       "      <th>2</th>\n",
       "      <td>200m freestyle</td>\n",
       "      <td>1:42.00</td>\n",
       "    </tr>\n",
       "    <tr>\n",
       "      <th>3</th>\n",
       "      <td>400m freestyle</td>\n",
       "      <td>3:39.96</td>\n",
       "    </tr>\n",
       "    <tr>\n",
       "      <th>4</th>\n",
       "      <td>800m freestyle</td>\n",
       "      <td>7:32.12</td>\n",
       "    </tr>\n",
       "  </tbody>\n",
       "</table>\n",
       "</div>"
      ],
      "text/plain": [
       "            Event     Time\n",
       "0   50m freestyle    20.91\n",
       "1  100m freestyle    46.40\n",
       "2  200m freestyle  1:42.00\n",
       "3  400m freestyle  3:39.96\n",
       "4  800m freestyle  7:32.12"
      ]
     },
     "execution_count": 7,
     "metadata": {},
     "output_type": "execute_result"
    }
   ],
   "source": [
    "df.head()"
   ]
  },
  {
   "cell_type": "code",
   "execution_count": 8,
   "id": "1a57129c",
   "metadata": {},
   "outputs": [
    {
     "data": {
      "text/plain": [
       "{'Event': {0: '50m freestyle',\n",
       "  1: '100m freestyle',\n",
       "  2: '200m freestyle',\n",
       "  3: '400m freestyle',\n",
       "  4: '800m freestyle',\n",
       "  5: '1500m freestyle',\n",
       "  6: '50m backstroke',\n",
       "  7: '100m backstroke',\n",
       "  8: '200m backstroke',\n",
       "  9: '50m breaststroke',\n",
       "  10: '100m breaststroke',\n",
       "  11: '200m breaststroke',\n",
       "  12: '50m butterfly',\n",
       "  13: '100m butterfly',\n",
       "  14: '200m butterfly',\n",
       "  15: '200m individual medley',\n",
       "  16: '400m individual medley',\n",
       "  17: '4 × 100 m freestyle relay',\n",
       "  18: '4 × 200 m freestyle relay',\n",
       "  19: '4 × 100 m medley relay'},\n",
       " 'Time': {0: '20.91',\n",
       "  1: '46.40',\n",
       "  2: '1:42.00',\n",
       "  3: '3:39.96',\n",
       "  4: '7:32.12',\n",
       "  5: '14:30.67',\n",
       "  6: '23.55',\n",
       "  7: '51.60',\n",
       "  8: '1:51.92',\n",
       "  9: '25.95',\n",
       "  10: '56.88',\n",
       "  11: '2:05.48',\n",
       "  12: '22.27',\n",
       "  13: '49.45',\n",
       "  14: '1:50.34',\n",
       "  15: '1:54.00',\n",
       "  16: '4:02.50',\n",
       "  17: '3:08.24',\n",
       "  18: '6:58.55',\n",
       "  19: '3:26.78'}}"
      ]
     },
     "execution_count": 8,
     "metadata": {},
     "output_type": "execute_result"
    }
   ],
   "source": [
    "df.to_dict()"
   ]
  },
  {
   "cell_type": "code",
   "execution_count": 9,
   "id": "5bdb6d21",
   "metadata": {},
   "outputs": [
    {
     "data": {
      "text/html": [
       "<div>\n",
       "<style scoped>\n",
       "    .dataframe tbody tr th:only-of-type {\n",
       "        vertical-align: middle;\n",
       "    }\n",
       "\n",
       "    .dataframe tbody tr th {\n",
       "        vertical-align: top;\n",
       "    }\n",
       "\n",
       "    .dataframe thead th {\n",
       "        text-align: right;\n",
       "    }\n",
       "</style>\n",
       "<table border=\"1\" class=\"dataframe\">\n",
       "  <thead>\n",
       "    <tr style=\"text-align: right;\">\n",
       "      <th></th>\n",
       "      <th>Event</th>\n",
       "      <th>Time</th>\n",
       "    </tr>\n",
       "  </thead>\n",
       "  <tbody>\n",
       "    <tr>\n",
       "      <th>15</th>\n",
       "      <td>200m individual medley</td>\n",
       "      <td>1:54.00</td>\n",
       "    </tr>\n",
       "    <tr>\n",
       "      <th>16</th>\n",
       "      <td>400m individual medley</td>\n",
       "      <td>4:02.50</td>\n",
       "    </tr>\n",
       "    <tr>\n",
       "      <th>17</th>\n",
       "      <td>4 × 100 m freestyle relay</td>\n",
       "      <td>3:08.24</td>\n",
       "    </tr>\n",
       "    <tr>\n",
       "      <th>18</th>\n",
       "      <td>4 × 200 m freestyle relay</td>\n",
       "      <td>6:58.55</td>\n",
       "    </tr>\n",
       "    <tr>\n",
       "      <th>19</th>\n",
       "      <td>4 × 100 m medley relay</td>\n",
       "      <td>3:26.78</td>\n",
       "    </tr>\n",
       "  </tbody>\n",
       "</table>\n",
       "</div>"
      ],
      "text/plain": [
       "                        Event     Time\n",
       "15     200m individual medley  1:54.00\n",
       "16     400m individual medley  4:02.50\n",
       "17  4 × 100 m freestyle relay  3:08.24\n",
       "18  4 × 200 m freestyle relay  6:58.55\n",
       "19     4 × 100 m medley relay  3:26.78"
      ]
     },
     "execution_count": 9,
     "metadata": {},
     "output_type": "execute_result"
    }
   ],
   "source": [
    "df.tail()"
   ]
  },
  {
   "cell_type": "code",
   "execution_count": 10,
   "id": "61eeced8",
   "metadata": {},
   "outputs": [
    {
     "data": {
      "text/html": [
       "<div>\n",
       "<style scoped>\n",
       "    .dataframe tbody tr th:only-of-type {\n",
       "        vertical-align: middle;\n",
       "    }\n",
       "\n",
       "    .dataframe tbody tr th {\n",
       "        vertical-align: top;\n",
       "    }\n",
       "\n",
       "    .dataframe thead th {\n",
       "        text-align: right;\n",
       "    }\n",
       "</style>\n",
       "<table border=\"1\" class=\"dataframe\">\n",
       "  <thead>\n",
       "    <tr style=\"text-align: right;\">\n",
       "      <th></th>\n",
       "      <th>Event</th>\n",
       "      <th>Time</th>\n",
       "    </tr>\n",
       "  </thead>\n",
       "  <tbody>\n",
       "    <tr>\n",
       "      <th>17</th>\n",
       "      <td>4 × 100 m freestyle relay</td>\n",
       "      <td>3:08.24</td>\n",
       "    </tr>\n",
       "    <tr>\n",
       "      <th>18</th>\n",
       "      <td>4 × 200 m freestyle relay</td>\n",
       "      <td>6:58.55</td>\n",
       "    </tr>\n",
       "    <tr>\n",
       "      <th>19</th>\n",
       "      <td>4 × 100 m medley relay</td>\n",
       "      <td>3:26.78</td>\n",
       "    </tr>\n",
       "  </tbody>\n",
       "</table>\n",
       "</div>"
      ],
      "text/plain": [
       "                        Event     Time\n",
       "17  4 × 100 m freestyle relay  3:08.24\n",
       "18  4 × 200 m freestyle relay  6:58.55\n",
       "19     4 × 100 m medley relay  3:26.78"
      ]
     },
     "execution_count": 10,
     "metadata": {},
     "output_type": "execute_result"
    }
   ],
   "source": [
    "df[df[\"Event\"].str.contains(\"relay\")]"
   ]
  },
  {
   "cell_type": "code",
   "execution_count": 12,
   "id": "d343a2dd",
   "metadata": {},
   "outputs": [],
   "source": [
    "df=df[~df[\"Event\"].str.contains(\"relay\")]"
   ]
  },
  {
   "cell_type": "code",
   "execution_count": 13,
   "id": "1a4a8d7f",
   "metadata": {},
   "outputs": [
    {
     "data": {
      "text/plain": [
       "[{'Event': '50m freestyle', 'Time': '20.91'},\n",
       " {'Event': '100m freestyle', 'Time': '46.40'},\n",
       " {'Event': '200m freestyle', 'Time': '1:42.00'},\n",
       " {'Event': '400m freestyle', 'Time': '3:39.96'},\n",
       " {'Event': '800m freestyle', 'Time': '7:32.12'},\n",
       " {'Event': '1500m freestyle', 'Time': '14:30.67'},\n",
       " {'Event': '50m backstroke', 'Time': '23.55'},\n",
       " {'Event': '100m backstroke', 'Time': '51.60'},\n",
       " {'Event': '200m backstroke', 'Time': '1:51.92'},\n",
       " {'Event': '50m breaststroke', 'Time': '25.95'},\n",
       " {'Event': '100m breaststroke', 'Time': '56.88'},\n",
       " {'Event': '200m breaststroke', 'Time': '2:05.48'},\n",
       " {'Event': '50m butterfly', 'Time': '22.27'},\n",
       " {'Event': '100m butterfly', 'Time': '49.45'},\n",
       " {'Event': '200m butterfly', 'Time': '1:50.34'},\n",
       " {'Event': '200m individual medley', 'Time': '1:54.00'},\n",
       " {'Event': '400m individual medley', 'Time': '4:02.50'}]"
      ]
     },
     "execution_count": 13,
     "metadata": {},
     "output_type": "execute_result"
    }
   ],
   "source": [
    "df.to_dict(\"records\")"
   ]
  },
  {
   "cell_type": "code",
   "execution_count": 14,
   "id": "bd7dd397",
   "metadata": {},
   "outputs": [
    {
     "data": {
      "text/html": [
       "<div>\n",
       "<style scoped>\n",
       "    .dataframe tbody tr th:only-of-type {\n",
       "        vertical-align: middle;\n",
       "    }\n",
       "\n",
       "    .dataframe tbody tr th {\n",
       "        vertical-align: top;\n",
       "    }\n",
       "\n",
       "    .dataframe thead th {\n",
       "        text-align: right;\n",
       "    }\n",
       "</style>\n",
       "<table border=\"1\" class=\"dataframe\">\n",
       "  <thead>\n",
       "    <tr style=\"text-align: right;\">\n",
       "      <th></th>\n",
       "      <th>Time</th>\n",
       "    </tr>\n",
       "    <tr>\n",
       "      <th>Event</th>\n",
       "      <th></th>\n",
       "    </tr>\n",
       "  </thead>\n",
       "  <tbody>\n",
       "    <tr>\n",
       "      <th>50m freestyle</th>\n",
       "      <td>20.91</td>\n",
       "    </tr>\n",
       "    <tr>\n",
       "      <th>100m freestyle</th>\n",
       "      <td>46.40</td>\n",
       "    </tr>\n",
       "    <tr>\n",
       "      <th>200m freestyle</th>\n",
       "      <td>1:42.00</td>\n",
       "    </tr>\n",
       "    <tr>\n",
       "      <th>400m freestyle</th>\n",
       "      <td>3:39.96</td>\n",
       "    </tr>\n",
       "    <tr>\n",
       "      <th>800m freestyle</th>\n",
       "      <td>7:32.12</td>\n",
       "    </tr>\n",
       "  </tbody>\n",
       "</table>\n",
       "</div>"
      ],
      "text/plain": [
       "                   Time\n",
       "Event                  \n",
       "50m freestyle     20.91\n",
       "100m freestyle    46.40\n",
       "200m freestyle  1:42.00\n",
       "400m freestyle  3:39.96\n",
       "800m freestyle  7:32.12"
      ]
     },
     "execution_count": 14,
     "metadata": {},
     "output_type": "execute_result"
    }
   ],
   "source": [
    "df=df.set_index(\"Event\")\n",
    "df.head()"
   ]
  },
  {
   "cell_type": "code",
   "execution_count": 15,
   "id": "69dc0618",
   "metadata": {},
   "outputs": [
    {
     "data": {
      "text/plain": [
       "{'Time': {'50m freestyle': '20.91',\n",
       "  '100m freestyle': '46.40',\n",
       "  '200m freestyle': '1:42.00',\n",
       "  '400m freestyle': '3:39.96',\n",
       "  '800m freestyle': '7:32.12',\n",
       "  '1500m freestyle': '14:30.67',\n",
       "  '50m backstroke': '23.55',\n",
       "  '100m backstroke': '51.60',\n",
       "  '200m backstroke': '1:51.92',\n",
       "  '50m breaststroke': '25.95',\n",
       "  '100m breaststroke': '56.88',\n",
       "  '200m breaststroke': '2:05.48',\n",
       "  '50m butterfly': '22.27',\n",
       "  '100m butterfly': '49.45',\n",
       "  '200m butterfly': '1:50.34',\n",
       "  '200m individual medley': '1:54.00',\n",
       "  '400m individual medley': '4:02.50'}}"
      ]
     },
     "execution_count": 15,
     "metadata": {},
     "output_type": "execute_result"
    }
   ],
   "source": [
    "df.to_dict()"
   ]
  },
  {
   "cell_type": "code",
   "execution_count": 16,
   "id": "f1e51325",
   "metadata": {},
   "outputs": [],
   "source": [
    "records={}\n",
    "records[\"LC Men\"]=df.to_dict()[\"Time\"]"
   ]
  },
  {
   "cell_type": "code",
   "execution_count": 17,
   "id": "eab0130e",
   "metadata": {},
   "outputs": [
    {
     "data": {
      "text/plain": [
       "{'LC Men': {'50m freestyle': '20.91',\n",
       "  '100m freestyle': '46.40',\n",
       "  '200m freestyle': '1:42.00',\n",
       "  '400m freestyle': '3:39.96',\n",
       "  '800m freestyle': '7:32.12',\n",
       "  '1500m freestyle': '14:30.67',\n",
       "  '50m backstroke': '23.55',\n",
       "  '100m backstroke': '51.60',\n",
       "  '200m backstroke': '1:51.92',\n",
       "  '50m breaststroke': '25.95',\n",
       "  '100m breaststroke': '56.88',\n",
       "  '200m breaststroke': '2:05.48',\n",
       "  '50m butterfly': '22.27',\n",
       "  '100m butterfly': '49.45',\n",
       "  '200m butterfly': '1:50.34',\n",
       "  '200m individual medley': '1:54.00',\n",
       "  '400m individual medley': '4:02.50'}}"
      ]
     },
     "execution_count": 17,
     "metadata": {},
     "output_type": "execute_result"
    }
   ],
   "source": [
    "records"
   ]
  },
  {
   "cell_type": "code",
   "execution_count": 18,
   "id": "2ed1ff5d",
   "metadata": {},
   "outputs": [],
   "source": [
    "RECORDS=(0,2,4,5)\n",
    "COURSES=(\"LC Men\",\"LC Women\",\"SC Men\",\"SC Women\")"
   ]
  },
  {
   "cell_type": "code",
   "execution_count": 19,
   "id": "f3539f45",
   "metadata": {},
   "outputs": [],
   "source": [
    "records={}\n",
    "for table, course in zip(RECORDS, COURSES):\n",
    "    df=tables[table][[\"Event\",\"Time\"]]\n",
    "    df=df[~df[\"Event\"].str.contains(\"relay\")]\n",
    "    df=df.set_index(\"Event\")\n",
    "    records[course]=df.to_dict()[\"Time\"]"
   ]
  },
  {
   "cell_type": "code",
   "execution_count": 20,
   "id": "0357cb53",
   "metadata": {},
   "outputs": [
    {
     "data": {
      "text/plain": [
       "{'LC Men': {'50m freestyle': '20.91',\n",
       "  '100m freestyle': '46.40',\n",
       "  '200m freestyle': '1:42.00',\n",
       "  '400m freestyle': '3:39.96',\n",
       "  '800m freestyle': '7:32.12',\n",
       "  '1500m freestyle': '14:30.67',\n",
       "  '50m backstroke': '23.55',\n",
       "  '100m backstroke': '51.60',\n",
       "  '200m backstroke': '1:51.92',\n",
       "  '50m breaststroke': '25.95',\n",
       "  '100m breaststroke': '56.88',\n",
       "  '200m breaststroke': '2:05.48',\n",
       "  '50m butterfly': '22.27',\n",
       "  '100m butterfly': '49.45',\n",
       "  '200m butterfly': '1:50.34',\n",
       "  '200m individual medley': '1:54.00',\n",
       "  '400m individual medley': '4:02.50'},\n",
       " 'LC Women': {'50m freestyle': '23.61',\n",
       "  '100m freestyle': '51.71',\n",
       "  '200m freestyle': '1:52.23',\n",
       "  '400m freestyle': '3:55.38',\n",
       "  '800m freestyle': '8:04.79',\n",
       "  '1500m freestyle': '15:20.48',\n",
       "  '50m backstroke': '26.86',\n",
       "  '100m backstroke': '57.13',\n",
       "  '200m backstroke': '2:03.14',\n",
       "  '50m breaststroke': '29.16',\n",
       "  '100m breaststroke': '1:04.13',\n",
       "  '200m breaststroke': '2:17.55',\n",
       "  '50m butterfly': '24.43',\n",
       "  '100m butterfly': '55.18',\n",
       "  '200m butterfly': '2:01.81',\n",
       "  '200m individual medley': '2:06.12',\n",
       "  '400m individual medley': '4:24.38'},\n",
       " 'SC Men': {'50m freestyle': '19.90',\n",
       "  '100m freestyle': '44.84',\n",
       "  '200m freestyle': '1:38.61',\n",
       "  '400m freestyle': '3:32.25',\n",
       "  '800m freestyle': '7:20.46',\n",
       "  '1500m freestyle': '14:06.88',\n",
       "  '50m backstroke': '22.11',\n",
       "  '100m backstroke': '48.33',\n",
       "  '200m backstroke': '1:45.63',\n",
       "  '50m breaststroke': '24.95',\n",
       "  '100m breaststroke': '55.28',\n",
       "  '200m breaststroke': '2:00.16',\n",
       "  '50m butterfly': '21.32',\n",
       "  '100m butterfly': '47.71',\n",
       "  '200m butterfly': '1:46.85',\n",
       "  '100m individual medley': '49.28',\n",
       "  '200m individual medley': '1:48.88',\n",
       "  '400m individual medley': '3:54.81'},\n",
       " 'SC Women': {'50m freestyle': '22.83',\n",
       "  '100m freestyle': '50.25',\n",
       "  '200m freestyle': '1:50.31',\n",
       "  '400m freestyle': '3:50.25',\n",
       "  '800m freestyle': '7:57.42',\n",
       "  '1500m freestyle': '15:08.24',\n",
       "  '50m backstroke': '25.23',\n",
       "  '100m backstroke': '54.02',\n",
       "  '200m backstroke': '1:58.04',\n",
       "  '50m breaststroke': '28.37',\n",
       "  '100m breaststroke': '1:02.36',\n",
       "  '200m breaststroke': '2:12.50',\n",
       "  '50m butterfly': '23.94',\n",
       "  '100m butterfly': '52.71',\n",
       "  '200m butterfly': '1:59.32',\n",
       "  '100m individual medley': '55.11',\n",
       "  '200m individual medley': '2:01.63',\n",
       "  '400m individual medley': '4:15.48'}}"
      ]
     },
     "execution_count": 20,
     "metadata": {},
     "output_type": "execute_result"
    }
   ],
   "source": [
    "records"
   ]
  },
  {
   "cell_type": "code",
   "execution_count": null,
   "id": "02ea67fb",
   "metadata": {},
   "outputs": [],
   "source": []
  }
 ],
 "metadata": {
  "kernelspec": {
   "display_name": "Python 3",
   "language": "python",
   "name": "python3"
  },
  "language_info": {
   "codemirror_mode": {
    "name": "ipython",
    "version": 3
   },
   "file_extension": ".py",
   "mimetype": "text/x-python",
   "name": "python",
   "nbconvert_exporter": "python",
   "pygments_lexer": "ipython3",
   "version": "3.11.9"
  }
 },
 "nbformat": 4,
 "nbformat_minor": 5
}
