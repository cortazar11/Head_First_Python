{
 "cells": [
  {
   "cell_type": "code",
   "execution_count": 1,
   "id": "482d1d25",
   "metadata": {},
   "outputs": [],
   "source": [
    "def event_lookup(event):\n",
    "\n",
    "    conversions= {\n",
    "        \"Free\": \"freestyle\",\n",
    "        \"Back\": \"backstroke\",\n",
    "        \"Breast\": \"breaststroke\",\n",
    "        \"Fly\": \"butterfly\",\n",
    "        \"IM\": \"individual medley\"\n",
    "\n",
    "    }\n",
    "\n",
    "    *_, distance, stroke = event.removesuffix(\".txt\").split(\"-\")\n",
    "    return f\"{distance} {conversions[stroke]}\""
   ]
  },
  {
   "cell_type": "code",
   "execution_count": 2,
   "id": "e1bfad83",
   "metadata": {},
   "outputs": [
    {
     "name": "stdout",
     "output_type": "stream",
     "text": [
      "100m backstroke\n",
      "100m butterfly\n",
      "100m breaststroke\n",
      "100m individual medley\n"
     ]
    }
   ],
   "source": [
    "print(event_lookup(\"Darius-13-100m-Back.txt\"))\n",
    "print(event_lookup(\"Darius-13-100m-Fly.txt\"))\n",
    "print(event_lookup(\"Darius-13-100m-Breast.txt\"))\n",
    "print(event_lookup(\"Darius-13-100m-IM.txt\"))"
   ]
  },
  {
   "cell_type": "code",
   "execution_count": 3,
   "id": "b78899d2",
   "metadata": {},
   "outputs": [],
   "source": [
    "import json"
   ]
  },
  {
   "cell_type": "code",
   "execution_count": 4,
   "id": "dfff56b9",
   "metadata": {},
   "outputs": [],
   "source": [
    "with open(\"records.json\") as jf:\n",
    "    records = json.load(jf)"
   ]
  },
  {
   "cell_type": "code",
   "execution_count": 5,
   "id": "9b28a256",
   "metadata": {},
   "outputs": [
    {
     "data": {
      "text/plain": [
       "'49.45'"
      ]
     },
     "execution_count": 5,
     "metadata": {},
     "output_type": "execute_result"
    }
   ],
   "source": [
    "records[\"LC Men\"][event_lookup('Darius-13-100m-Fly.txt')]"
   ]
  },
  {
   "cell_type": "code",
   "execution_count": 6,
   "id": "e9842fa3",
   "metadata": {},
   "outputs": [],
   "source": [
    "COURSES=(\"LC Men\",\"LC Women\",\"SC Men\",\"SC Women\")"
   ]
  },
  {
   "cell_type": "code",
   "execution_count": 7,
   "id": "84878e67",
   "metadata": {},
   "outputs": [
    {
     "name": "stdout",
     "output_type": "stream",
     "text": [
      "49.45\n",
      "55.18\n",
      "47.71\n",
      "52.71\n"
     ]
    }
   ],
   "source": [
    "for course in COURSES:\n",
    "    print(records[course][event_lookup('Darius-13-100m-Fly.txt')])"
   ]
  },
  {
   "cell_type": "code",
   "execution_count": null,
   "id": "20b0f9f9",
   "metadata": {},
   "outputs": [],
   "source": []
  }
 ],
 "metadata": {
  "kernelspec": {
   "display_name": "Python 3",
   "language": "python",
   "name": "python3"
  },
  "language_info": {
   "codemirror_mode": {
    "name": "ipython",
    "version": 3
   },
   "file_extension": ".py",
   "mimetype": "text/x-python",
   "name": "python",
   "nbconvert_exporter": "python",
   "pygments_lexer": "ipython3",
   "version": "3.13.2"
  }
 },
 "nbformat": 4,
 "nbformat_minor": 5
}
