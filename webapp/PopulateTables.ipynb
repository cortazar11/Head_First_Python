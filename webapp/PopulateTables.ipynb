{
 "cells": [
  {
   "cell_type": "code",
   "execution_count": 1,
   "id": "7860a72b",
   "metadata": {},
   "outputs": [
    {
     "name": "stdout",
     "output_type": "stream",
     "text": [
      "Requirement already satisfied: DBcm in c:\\users\\migue\\appdata\\local\\packages\\pythonsoftwarefoundation.python.3.11_qbz5n2kfra8p0\\localcache\\local-packages\\python311\\site-packages (3.0.5)\n",
      "Requirement already satisfied: mariadb in c:\\users\\migue\\appdata\\local\\packages\\pythonsoftwarefoundation.python.3.11_qbz5n2kfra8p0\\localcache\\local-packages\\python311\\site-packages (from DBcm) (1.1.12)\n",
      "Requirement already satisfied: packaging in c:\\users\\migue\\appdata\\local\\packages\\pythonsoftwarefoundation.python.3.11_qbz5n2kfra8p0\\localcache\\local-packages\\python311\\site-packages (from mariadb->DBcm) (24.2)\n",
      "Note: you may need to restart the kernel to use updated packages.\n"
     ]
    }
   ],
   "source": [
    "%pip install DBcm --upgrade"
   ]
  },
  {
   "cell_type": "code",
   "execution_count": 2,
   "id": "bc452ec5",
   "metadata": {},
   "outputs": [],
   "source": [
    "import DBcm\n",
    "import os"
   ]
  },
  {
   "cell_type": "code",
   "execution_count": 3,
   "id": "41449e0f",
   "metadata": {},
   "outputs": [],
   "source": [
    "db_details=\"CoachDB.sqlite3\""
   ]
  },
  {
   "cell_type": "code",
   "execution_count": 4,
   "id": "a870e0e5",
   "metadata": {},
   "outputs": [],
   "source": [
    "SQL_INSERT=\"\"\"\n",
    "           insert into swimmers\n",
    "           (name, age)\n",
    "           values\n",
    "           (?,?)\n",
    "\"\"\"\n",
    "\n"
   ]
  },
  {
   "cell_type": "code",
   "execution_count": 5,
   "id": "1bfbb2dc",
   "metadata": {},
   "outputs": [],
   "source": [
    "with DBcm.UseDatabase(db_details) as db:\n",
    "    db.execute(SQL_INSERT, ('John Doe', 25))"
   ]
  },
  {
   "cell_type": "code",
   "execution_count": 6,
   "id": "c883fc46",
   "metadata": {},
   "outputs": [],
   "source": [
    "SQL= \"\"\"\n",
    "    select * from swimmers\n",
    "\"\"\""
   ]
  },
  {
   "cell_type": "code",
   "execution_count": 13,
   "id": "e14fb671",
   "metadata": {},
   "outputs": [
    {
     "data": {
      "text/plain": [
       "[]"
      ]
     },
     "execution_count": 13,
     "metadata": {},
     "output_type": "execute_result"
    }
   ],
   "source": [
    "with DBcm.UseDatabase(db_details) as db:\n",
    "    db.execute(SQL)\n",
    "    results=db.fetchall()\n",
    "results\n",
    "    "
   ]
  },
  {
   "cell_type": "code",
   "execution_count": 8,
   "id": "11364197",
   "metadata": {},
   "outputs": [],
   "source": [
    "SQL=\"\"\"\n",
    "        delete from swimmers\n",
    "\"\"\"\n",
    "\n",
    "with DBcm.UseDatabase(db_details) as db:\n",
    "    db.execute(SQL)\n",
    "    "
   ]
  },
  {
   "cell_type": "code",
   "execution_count": 21,
   "id": "c7783d24",
   "metadata": {},
   "outputs": [],
   "source": [
    "import os\n",
    "import DBcm\n",
    "\n",
    "db_details=\"CoachDB.sqlite3\"\n",
    "\n",
    "\n",
    "FOLDER=\"swimdata/\"\n",
    "\n",
    "files=os.listdir(FOLDER)\n",
    "files.remove(\".DS_Store\")\n",
    "\n",
    "SQL_SELECT=\"\"\"\n",
    "         select * from swimmers\n",
    "         where name = ?\n",
    "         and age = ?\n",
    "        \"\"\"\n",
    "\n",
    "SQL_INSERT=\"\"\"\n",
    "         insert into swimmers\n",
    "         (name,age)\n",
    "         values\n",
    "         (?,?)\n",
    "        \"\"\"\n",
    "\n",
    "with DBcm.UseDatabase(db_details) as db:\n",
    "    for fn in files:\n",
    "        name, age, _, _ = fn.removesuffix(\".txt\").split(\"-\")\n",
    "        db.execute(SQL_SELECT, (name, age))\n",
    "        if db.fetchall():  # Corrected typo here\n",
    "            continue\n",
    "        db.execute(SQL_INSERT, (name, age))\n"
   ]
  },
  {
   "cell_type": "code",
   "execution_count": 22,
   "id": "8805a6d8",
   "metadata": {},
   "outputs": [
    {
     "data": {
      "text/plain": [
       "[(113, 'Hannah', 13),\n",
       " (114, 'Darius', 13),\n",
       " (115, 'Owen', 15),\n",
       " (116, 'Mike', 15),\n",
       " (117, 'Abi', 10),\n",
       " (118, 'Ruth', 13),\n",
       " (119, 'Tasmin', 15),\n",
       " (120, 'Erika', 15),\n",
       " (121, 'Maria', 9),\n",
       " (122, 'Elba', 14),\n",
       " (123, 'Ali', 12),\n",
       " (124, 'Chris', 17),\n",
       " (125, 'Aurora', 13),\n",
       " (126, 'Katie', 9),\n",
       " (127, 'Alison', 14),\n",
       " (128, 'Emma', 13),\n",
       " (129, 'Calvin', 9),\n",
       " (130, 'Blake', 15),\n",
       " (131, 'Bill', 18),\n",
       " (132, 'Dave', 17),\n",
       " (133, 'Lizzie', 14),\n",
       " (134, 'Carl', 15)]"
      ]
     },
     "execution_count": 22,
     "metadata": {},
     "output_type": "execute_result"
    }
   ],
   "source": [
    "SQL= \"\"\"\n",
    "    select * from swimmers\n",
    "\"\"\"\n",
    "\n",
    "with DBcm.UseDatabase(db_details) as db:\n",
    "    db.execute(SQL)\n",
    "    results=db.fetchall()\n",
    "results\n",
    "                        "
   ]
  },
  {
   "cell_type": "code",
   "execution_count": 25,
   "id": "a46f1575",
   "metadata": {},
   "outputs": [],
   "source": [
    "SQL_SELECT=\"\"\"\n",
    "         select * from events\n",
    "         where distance= ? and stroke=?\n",
    "        \"\"\"\n",
    "SQL_INSERT=\"\"\"\n",
    "         insert into events\n",
    "         (distance, stroke)\n",
    "         values\n",
    "         (?,?)\n",
    "        \"\"\"\n",
    "\n",
    "with DBcm.UseDatabase(db_details) as db:\n",
    "    for fn in files:\n",
    "        _ ,_,distance,stroke=fn.removesuffix(\".txt\").split(\"-\")\n",
    "        db.execute(SQL_SELECT, (distance,stroke))\n",
    "        if db.fetchall():  # Corrected typo here\n",
    "            continue\n",
    "        db.execute(SQL_INSERT, (distance,stroke))\n"
   ]
  },
  {
   "cell_type": "code",
   "execution_count": 27,
   "id": "ad06e890",
   "metadata": {},
   "outputs": [
    {
     "data": {
      "text/plain": [
       "[(1, '100m', 'Free'),\n",
       " (2, '100m', 'Back'),\n",
       " (3, '100m', 'Fly'),\n",
       " (4, '50m', 'Back'),\n",
       " (5, '200m', 'Free'),\n",
       " (6, '200m', 'Back'),\n",
       " (7, '50m', 'Free'),\n",
       " (8, '50m', 'Breast'),\n",
       " (9, '200m', 'IM'),\n",
       " (10, '100m', 'Breast'),\n",
       " (11, '400m', 'Free'),\n",
       " (12, '50m', 'Fly'),\n",
       " (13, '200m', 'Breast')]"
      ]
     },
     "execution_count": 27,
     "metadata": {},
     "output_type": "execute_result"
    }
   ],
   "source": [
    "SQL= \"\"\"\n",
    "    select * from events\n",
    "\"\"\"\n",
    "\n",
    "with DBcm.UseDatabase(db_details) as db:\n",
    "    db.execute(SQL)\n",
    "    results=db.fetchall()\n",
    "results"
   ]
  },
  {
   "cell_type": "code",
   "execution_count": 28,
   "id": "aabf9118",
   "metadata": {},
   "outputs": [
    {
     "data": {
      "text/plain": [
       "[(0, 'swimmer_id', 'INTEGER', 1, None, 0),\n",
       " (1, 'event_id', 'INTEGER', 1, None, 0),\n",
       " (2, 'time', 'varchar(16)', 1, None, 0),\n",
       " (3, 'ts', 'timestamp', 0, 'current_timestamp', 0)]"
      ]
     },
     "execution_count": 28,
     "metadata": {},
     "output_type": "execute_result"
    }
   ],
   "source": [
    "with DBcm.UseDatabase(db_details) as db:\n",
    "    db.execute(\"pragma table_info('times')\")\n",
    "    results = db.fetchall()\n",
    "results"
   ]
  },
  {
   "cell_type": "code",
   "execution_count": 29,
   "id": "4fca8623",
   "metadata": {},
   "outputs": [],
   "source": [
    "SQL_GET_SWIMMER = \"\"\"\n",
    "    select id from swimmers\n",
    "    where name = ? and age = ?\n",
    "\"\"\""
   ]
  },
  {
   "cell_type": "code",
   "execution_count": 30,
   "id": "62f1da9e",
   "metadata": {},
   "outputs": [],
   "source": [
    "SQL_GET_EVENT = \"\"\"\n",
    "    select id from events\n",
    "    where distance = ? and stroke = ?\n",
    "\"\"\""
   ]
  },
  {
   "cell_type": "code",
   "execution_count": 31,
   "id": "7b91772f",
   "metadata": {},
   "outputs": [],
   "source": [
    "SQL_INSERT = \"\"\"\n",
    "    insert into times\n",
    "    (swimmer_id, event_id, time)\n",
    "    values\n",
    "    (?, ?, ?)\n",
    "\"\"\""
   ]
  },
  {
   "cell_type": "code",
   "execution_count": 32,
   "id": "b76d3697",
   "metadata": {},
   "outputs": [
    {
     "data": {
      "text/plain": [
       "[]"
      ]
     },
     "execution_count": 32,
     "metadata": {},
     "output_type": "execute_result"
    }
   ],
   "source": [
    "SQL = \"\"\"select * from times\"\"\"\n",
    "with DBcm.UseDatabase(db_details) as db:\n",
    "    db.execute(SQL)\n",
    "    results = db.fetchall()\n",
    "results"
   ]
  },
  {
   "cell_type": "code",
   "execution_count": 33,
   "id": "38dc6514",
   "metadata": {},
   "outputs": [],
   "source": [
    "SQL = \"\"\"delete from times\"\"\"\n",
    "with DBcm.UseDatabase(db_details) as db:\n",
    "    db.execute(SQL)"
   ]
  },
  {
   "cell_type": "code",
   "execution_count": 34,
   "id": "dc0bf4fa",
   "metadata": {},
   "outputs": [],
   "source": [
    "with DBcm.UseDatabase(db_details) as db:\n",
    "    for fn in files:\n",
    "        name, age, distance, stroke = fn.removesuffix(\".txt\").split(\"-\")\n",
    "        db.execute(SQL_GET_SWIMMER, (name, age,))\n",
    "        s_id = db.fetchone()[0]\n",
    "        db.execute(SQL_GET_EVENT, (distance, stroke,))\n",
    "        e_id = db.fetchone()[0]\n",
    "        with open(FOLDER+fn) as sf:\n",
    "            times = sf.read().strip().split(\",\")\n",
    "            for t in times:\n",
    "                db.execute(SQL_INSERT, (s_id, e_id, t,))"
   ]
  },
  {
   "cell_type": "code",
   "execution_count": 35,
   "id": "f6b4250f",
   "metadata": {},
   "outputs": [
    {
     "data": {
      "text/plain": [
       "338"
      ]
     },
     "execution_count": 35,
     "metadata": {},
     "output_type": "execute_result"
    }
   ],
   "source": [
    "SQL = \"\"\"select count(*) from times\"\"\"\n",
    "with DBcm.UseDatabase(db_details) as db:\n",
    "    db.execute(SQL)\n",
    "    results = db.fetchone()[0]\n",
    "results"
   ]
  },
  {
   "cell_type": "code",
   "execution_count": 36,
   "id": "e036e2f5",
   "metadata": {},
   "outputs": [
    {
     "data": {
      "text/plain": [
       "[(113, 1, '1:21.43', '2025-04-15 09:21:24'),\n",
       " (113, 1, '1:21.40', '2025-04-15 09:21:24'),\n",
       " (113, 1, '1:21.62', '2025-04-15 09:21:24'),\n",
       " (113, 1, '1:25.38', '2025-04-15 09:21:24'),\n",
       " (114, 2, '1:22.57', '2025-04-15 09:21:24'),\n",
       " (114, 2, '1:29.64', '2025-04-15 09:21:24'),\n",
       " (114, 2, '1:20.39', '2025-04-15 09:21:24'),\n",
       " (114, 2, '1:23.83', '2025-04-15 09:21:24'),\n",
       " (115, 1, '1:15.57', '2025-04-15 09:21:24'),\n",
       " (115, 1, '1:14.40', '2025-04-15 09:21:24')]"
      ]
     },
     "execution_count": 36,
     "metadata": {},
     "output_type": "execute_result"
    }
   ],
   "source": [
    "SQL = \"\"\"select * from times limit 10\"\"\"\n",
    "with DBcm.UseDatabase(db_details) as db:\n",
    "    db.execute(SQL)\n",
    "    results = db.fetchall()\n",
    "results"
   ]
  },
  {
   "cell_type": "code",
   "execution_count": null,
   "id": "19f9499c",
   "metadata": {},
   "outputs": [],
   "source": []
  }
 ],
 "metadata": {
  "kernelspec": {
   "display_name": "Python 3",
   "language": "python",
   "name": "python3"
  },
  "language_info": {
   "codemirror_mode": {
    "name": "ipython",
    "version": 3
   },
   "file_extension": ".py",
   "mimetype": "text/x-python",
   "name": "python",
   "nbconvert_exporter": "python",
   "pygments_lexer": "ipython3",
   "version": "3.11.9"
  }
 },
 "nbformat": 4,
 "nbformat_minor": 5
}
