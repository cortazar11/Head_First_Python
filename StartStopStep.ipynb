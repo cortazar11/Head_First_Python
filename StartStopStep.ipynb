{
 "cells": [
  {
   "cell_type": "code",
   "execution_count": 1,
   "id": "332b5d5b",
   "metadata": {},
   "outputs": [],
   "source": [
    "fav=\"Life, the Universe and Everything\""
   ]
  },
  {
   "cell_type": "code",
   "execution_count": 2,
   "id": "b5377626",
   "metadata": {},
   "outputs": [
    {
     "data": {
      "text/plain": [
       "('L', 'i')"
      ]
     },
     "execution_count": 2,
     "metadata": {},
     "output_type": "execute_result"
    }
   ],
   "source": [
    "fav[0],fav[1]"
   ]
  },
  {
   "cell_type": "code",
   "execution_count": 3,
   "id": "89451a83",
   "metadata": {},
   "outputs": [
    {
     "data": {
      "text/plain": [
       "('g', 'n')"
      ]
     },
     "execution_count": 3,
     "metadata": {},
     "output_type": "execute_result"
    }
   ],
   "source": [
    "fav[-1],fav[-2]"
   ]
  },
  {
   "cell_type": "code",
   "execution_count": 5,
   "id": "92d70799",
   "metadata": {},
   "outputs": [
    {
     "data": {
      "text/plain": [
       "'Life'"
      ]
     },
     "execution_count": 5,
     "metadata": {},
     "output_type": "execute_result"
    }
   ],
   "source": [
    "fav[0:4]"
   ]
  },
  {
   "cell_type": "code",
   "execution_count": 8,
   "id": "920e5a17",
   "metadata": {},
   "outputs": [
    {
     "data": {
      "text/plain": [
       "' Everythin'"
      ]
     },
     "execution_count": 8,
     "metadata": {},
     "output_type": "execute_result"
    }
   ],
   "source": [
    "fav[22:-1]"
   ]
  },
  {
   "cell_type": "code",
   "execution_count": null,
   "id": "46dfca96",
   "metadata": {},
   "outputs": [],
   "source": []
  }
 ],
 "metadata": {
  "kernelspec": {
   "display_name": "Python 3",
   "language": "python",
   "name": "python3"
  },
  "language_info": {
   "codemirror_mode": {
    "name": "ipython",
    "version": 3
   },
   "file_extension": ".py",
   "mimetype": "text/x-python",
   "name": "python",
   "nbconvert_exporter": "python",
   "pygments_lexer": "ipython3",
   "version": "3.13.2"
  }
 },
 "nbformat": 4,
 "nbformat_minor": 5
}
